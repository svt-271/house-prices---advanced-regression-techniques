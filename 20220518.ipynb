{
 "cells": [
  {
   "cell_type": "code",
   "execution_count": 1,
   "metadata": {
    "_cell_guid": "b1076dfc-b9ad-4769-8c92-a6c4dae69d19",
    "_uuid": "8f2839f25d086af736a60e9eeb907d3b93b6e0e5",
    "execution": {
     "iopub.execute_input": "2022-05-18T16:43:02.360798Z",
     "iopub.status.busy": "2022-05-18T16:43:02.359768Z",
     "iopub.status.idle": "2022-05-18T16:43:02.379005Z",
     "shell.execute_reply": "2022-05-18T16:43:02.378357Z",
     "shell.execute_reply.started": "2022-05-18T16:43:02.360743Z"
    }
   },
   "outputs": [],
   "source": [
    "# This Python 3 environment comes with many helpful analytics libraries installed\n",
    "# It is defined by the kaggle/python Docker image: https://github.com/kaggle/docker-python\n",
    "# For example, here's several helpful packages to load\n",
    "\n",
    "import numpy as np # linear algebra\n",
    "import pandas as pd # data processing, CSV file I/O (e.g. pd.read_csv)\n",
    "\n",
    "# Input data files are available in the read-only \"../input/\" directory\n",
    "# For example, running this (by clicking run or pressing Shift+Enter) will list all files under the input directory\n",
    "\n",
    "import os\n",
    "for dirname, _, filenames in os.walk('/kaggle/input'):\n",
    "    for filename in filenames:\n",
    "        print(os.path.join(dirname, filename))\n",
    "\n",
    "# You can write up to 20GB to the current directory (/kaggle/working/) that gets preserved as output when you create a version using \"Save & Run All\" \n",
    "# You can also write temporary files to /kaggle/temp/, but they won't be saved outside of the current session"
   ]
  },
  {
   "cell_type": "code",
   "execution_count": 2,
   "metadata": {
    "execution": {
     "iopub.execute_input": "2022-05-18T16:43:02.381019Z",
     "iopub.status.busy": "2022-05-18T16:43:02.380583Z",
     "iopub.status.idle": "2022-05-18T16:43:02.385002Z",
     "shell.execute_reply": "2022-05-18T16:43:02.384331Z",
     "shell.execute_reply.started": "2022-05-18T16:43:02.380989Z"
    }
   },
   "outputs": [],
   "source": [
    "from sklearn.preprocessing    import OneHotEncoder\n",
    "from sklearn.preprocessing    import StandardScaler\n",
    "from sklearn.preprocessing    import Normalizer\n",
    "from sklearn.compose          import ColumnTransformer"
   ]
  },
  {
   "cell_type": "code",
   "execution_count": 3,
   "metadata": {
    "execution": {
     "iopub.execute_input": "2022-05-18T16:43:02.386647Z",
     "iopub.status.busy": "2022-05-18T16:43:02.386093Z",
     "iopub.status.idle": "2022-05-18T16:43:02.397654Z",
     "shell.execute_reply": "2022-05-18T16:43:02.396708Z",
     "shell.execute_reply.started": "2022-05-18T16:43:02.386606Z"
    }
   },
   "outputs": [],
   "source": [
    "from sklearn.pipeline         import Pipeline\n",
    "from sklearn.model_selection  import GridSearchCV\n",
    "from sklearn.model_selection  import KFold\n",
    "from sklearn.model_selection  import cross_val_score"
   ]
  },
  {
   "cell_type": "code",
   "execution_count": 4,
   "metadata": {},
   "outputs": [],
   "source": [
    "from sklearn.metrics          import make_scorer\n",
    "from sklearn.metrics          import mean_squared_error\n",
    "from sklearn.metrics          import mean_squared_log_error\n",
    "from sklearn.metrics          import r2_score"
   ]
  },
  {
   "cell_type": "code",
   "execution_count": 5,
   "metadata": {
    "execution": {
     "iopub.execute_input": "2022-05-18T16:43:02.399166Z",
     "iopub.status.busy": "2022-05-18T16:43:02.39863Z",
     "iopub.status.idle": "2022-05-18T16:43:02.410869Z",
     "shell.execute_reply": "2022-05-18T16:43:02.410096Z",
     "shell.execute_reply.started": "2022-05-18T16:43:02.399097Z"
    }
   },
   "outputs": [],
   "source": [
    "from sklearn.model_selection import train_test_split"
   ]
  },
  {
   "cell_type": "code",
   "execution_count": 6,
   "metadata": {
    "execution": {
     "iopub.execute_input": "2022-05-18T16:43:02.41287Z",
     "iopub.status.busy": "2022-05-18T16:43:02.412536Z",
     "iopub.status.idle": "2022-05-18T16:43:02.422674Z",
     "shell.execute_reply": "2022-05-18T16:43:02.42143Z",
     "shell.execute_reply.started": "2022-05-18T16:43:02.412842Z"
    }
   },
   "outputs": [],
   "source": [
    "import matplotlib.pyplot as     plt"
   ]
  },
  {
   "cell_type": "code",
   "execution_count": 7,
   "metadata": {
    "execution": {
     "iopub.execute_input": "2022-05-18T16:43:02.424263Z",
     "iopub.status.busy": "2022-05-18T16:43:02.423691Z",
     "iopub.status.idle": "2022-05-18T16:43:02.437475Z",
     "shell.execute_reply": "2022-05-18T16:43:02.436356Z",
     "shell.execute_reply.started": "2022-05-18T16:43:02.424207Z"
    }
   },
   "outputs": [],
   "source": [
    "from sklearn.ensemble       import GradientBoostingRegressor\n",
    "from sklearn.svm            import SVR\n",
    "from sklearn.linear_model   import Lasso\n",
    "from sklearn.neighbors      import KNeighborsRegressor\n",
    "from sklearn.neural_network import MLPRegressor"
   ]
  },
  {
   "cell_type": "code",
   "execution_count": 8,
   "metadata": {
    "execution": {
     "iopub.execute_input": "2022-05-18T16:43:02.455684Z",
     "iopub.status.busy": "2022-05-18T16:43:02.454797Z",
     "iopub.status.idle": "2022-05-18T16:43:02.468565Z",
     "shell.execute_reply": "2022-05-18T16:43:02.467791Z",
     "shell.execute_reply.started": "2022-05-18T16:43:02.45565Z"
    }
   },
   "outputs": [],
   "source": [
    "from math import sqrt, log, exp"
   ]
  },
  {
   "cell_type": "code",
   "execution_count": 9,
   "metadata": {
    "execution": {
     "iopub.execute_input": "2022-05-18T16:43:02.470167Z",
     "iopub.status.busy": "2022-05-18T16:43:02.469912Z",
     "iopub.status.idle": "2022-05-18T16:43:02.531667Z",
     "shell.execute_reply": "2022-05-18T16:43:02.53082Z",
     "shell.execute_reply.started": "2022-05-18T16:43:02.470139Z"
    }
   },
   "outputs": [],
   "source": [
    "#read data\n",
    "train = pd.read_csv(\"train.csv\")\n",
    "test  = pd.read_csv(\"test.csv\")"
   ]
  },
  {
   "cell_type": "code",
   "execution_count": 10,
   "metadata": {
    "execution": {
     "iopub.execute_input": "2022-05-18T16:43:02.534632Z",
     "iopub.status.busy": "2022-05-18T16:43:02.534171Z",
     "iopub.status.idle": "2022-05-18T16:43:02.540306Z",
     "shell.execute_reply": "2022-05-18T16:43:02.539403Z",
     "shell.execute_reply.started": "2022-05-18T16:43:02.534584Z"
    }
   },
   "outputs": [],
   "source": [
    "# store the copy\n",
    "train_copy = train.copy()\n",
    "test_copy  = test .copy()"
   ]
  },
  {
   "cell_type": "code",
   "execution_count": 11,
   "metadata": {
    "execution": {
     "iopub.execute_input": "2022-05-18T16:43:02.542835Z",
     "iopub.status.busy": "2022-05-18T16:43:02.542427Z",
     "iopub.status.idle": "2022-05-18T16:43:02.587983Z",
     "shell.execute_reply": "2022-05-18T16:43:02.587157Z",
     "shell.execute_reply.started": "2022-05-18T16:43:02.542793Z"
    }
   },
   "outputs": [
    {
     "data": {
      "text/html": [
       "<div>\n",
       "<style scoped>\n",
       "    .dataframe tbody tr th:only-of-type {\n",
       "        vertical-align: middle;\n",
       "    }\n",
       "\n",
       "    .dataframe tbody tr th {\n",
       "        vertical-align: top;\n",
       "    }\n",
       "\n",
       "    .dataframe thead th {\n",
       "        text-align: right;\n",
       "    }\n",
       "</style>\n",
       "<table border=\"1\" class=\"dataframe\">\n",
       "  <thead>\n",
       "    <tr style=\"text-align: right;\">\n",
       "      <th></th>\n",
       "      <th>Id</th>\n",
       "      <th>MSSubClass</th>\n",
       "      <th>MSZoning</th>\n",
       "      <th>LotFrontage</th>\n",
       "      <th>LotArea</th>\n",
       "      <th>Street</th>\n",
       "      <th>Alley</th>\n",
       "      <th>LotShape</th>\n",
       "      <th>LandContour</th>\n",
       "      <th>Utilities</th>\n",
       "      <th>...</th>\n",
       "      <th>ScreenPorch</th>\n",
       "      <th>PoolArea</th>\n",
       "      <th>PoolQC</th>\n",
       "      <th>Fence</th>\n",
       "      <th>MiscFeature</th>\n",
       "      <th>MiscVal</th>\n",
       "      <th>MoSold</th>\n",
       "      <th>YrSold</th>\n",
       "      <th>SaleType</th>\n",
       "      <th>SaleCondition</th>\n",
       "    </tr>\n",
       "  </thead>\n",
       "  <tbody>\n",
       "    <tr>\n",
       "      <th>0</th>\n",
       "      <td>1461</td>\n",
       "      <td>20</td>\n",
       "      <td>RH</td>\n",
       "      <td>80.0</td>\n",
       "      <td>11622</td>\n",
       "      <td>Pave</td>\n",
       "      <td>NaN</td>\n",
       "      <td>Reg</td>\n",
       "      <td>Lvl</td>\n",
       "      <td>AllPub</td>\n",
       "      <td>...</td>\n",
       "      <td>120</td>\n",
       "      <td>0</td>\n",
       "      <td>NaN</td>\n",
       "      <td>MnPrv</td>\n",
       "      <td>NaN</td>\n",
       "      <td>0</td>\n",
       "      <td>6</td>\n",
       "      <td>2010</td>\n",
       "      <td>WD</td>\n",
       "      <td>Normal</td>\n",
       "    </tr>\n",
       "    <tr>\n",
       "      <th>1</th>\n",
       "      <td>1462</td>\n",
       "      <td>20</td>\n",
       "      <td>RL</td>\n",
       "      <td>81.0</td>\n",
       "      <td>14267</td>\n",
       "      <td>Pave</td>\n",
       "      <td>NaN</td>\n",
       "      <td>IR1</td>\n",
       "      <td>Lvl</td>\n",
       "      <td>AllPub</td>\n",
       "      <td>...</td>\n",
       "      <td>0</td>\n",
       "      <td>0</td>\n",
       "      <td>NaN</td>\n",
       "      <td>NaN</td>\n",
       "      <td>Gar2</td>\n",
       "      <td>12500</td>\n",
       "      <td>6</td>\n",
       "      <td>2010</td>\n",
       "      <td>WD</td>\n",
       "      <td>Normal</td>\n",
       "    </tr>\n",
       "    <tr>\n",
       "      <th>2</th>\n",
       "      <td>1463</td>\n",
       "      <td>60</td>\n",
       "      <td>RL</td>\n",
       "      <td>74.0</td>\n",
       "      <td>13830</td>\n",
       "      <td>Pave</td>\n",
       "      <td>NaN</td>\n",
       "      <td>IR1</td>\n",
       "      <td>Lvl</td>\n",
       "      <td>AllPub</td>\n",
       "      <td>...</td>\n",
       "      <td>0</td>\n",
       "      <td>0</td>\n",
       "      <td>NaN</td>\n",
       "      <td>MnPrv</td>\n",
       "      <td>NaN</td>\n",
       "      <td>0</td>\n",
       "      <td>3</td>\n",
       "      <td>2010</td>\n",
       "      <td>WD</td>\n",
       "      <td>Normal</td>\n",
       "    </tr>\n",
       "    <tr>\n",
       "      <th>3</th>\n",
       "      <td>1464</td>\n",
       "      <td>60</td>\n",
       "      <td>RL</td>\n",
       "      <td>78.0</td>\n",
       "      <td>9978</td>\n",
       "      <td>Pave</td>\n",
       "      <td>NaN</td>\n",
       "      <td>IR1</td>\n",
       "      <td>Lvl</td>\n",
       "      <td>AllPub</td>\n",
       "      <td>...</td>\n",
       "      <td>0</td>\n",
       "      <td>0</td>\n",
       "      <td>NaN</td>\n",
       "      <td>NaN</td>\n",
       "      <td>NaN</td>\n",
       "      <td>0</td>\n",
       "      <td>6</td>\n",
       "      <td>2010</td>\n",
       "      <td>WD</td>\n",
       "      <td>Normal</td>\n",
       "    </tr>\n",
       "    <tr>\n",
       "      <th>4</th>\n",
       "      <td>1465</td>\n",
       "      <td>120</td>\n",
       "      <td>RL</td>\n",
       "      <td>43.0</td>\n",
       "      <td>5005</td>\n",
       "      <td>Pave</td>\n",
       "      <td>NaN</td>\n",
       "      <td>IR1</td>\n",
       "      <td>HLS</td>\n",
       "      <td>AllPub</td>\n",
       "      <td>...</td>\n",
       "      <td>144</td>\n",
       "      <td>0</td>\n",
       "      <td>NaN</td>\n",
       "      <td>NaN</td>\n",
       "      <td>NaN</td>\n",
       "      <td>0</td>\n",
       "      <td>1</td>\n",
       "      <td>2010</td>\n",
       "      <td>WD</td>\n",
       "      <td>Normal</td>\n",
       "    </tr>\n",
       "  </tbody>\n",
       "</table>\n",
       "<p>5 rows × 80 columns</p>\n",
       "</div>"
      ],
      "text/plain": [
       "     Id  MSSubClass MSZoning  LotFrontage  LotArea Street Alley LotShape  \\\n",
       "0  1461          20       RH         80.0    11622   Pave   NaN      Reg   \n",
       "1  1462          20       RL         81.0    14267   Pave   NaN      IR1   \n",
       "2  1463          60       RL         74.0    13830   Pave   NaN      IR1   \n",
       "3  1464          60       RL         78.0     9978   Pave   NaN      IR1   \n",
       "4  1465         120       RL         43.0     5005   Pave   NaN      IR1   \n",
       "\n",
       "  LandContour Utilities  ... ScreenPorch PoolArea PoolQC  Fence MiscFeature  \\\n",
       "0         Lvl    AllPub  ...         120        0    NaN  MnPrv         NaN   \n",
       "1         Lvl    AllPub  ...           0        0    NaN    NaN        Gar2   \n",
       "2         Lvl    AllPub  ...           0        0    NaN  MnPrv         NaN   \n",
       "3         Lvl    AllPub  ...           0        0    NaN    NaN         NaN   \n",
       "4         HLS    AllPub  ...         144        0    NaN    NaN         NaN   \n",
       "\n",
       "  MiscVal MoSold  YrSold  SaleType  SaleCondition  \n",
       "0       0      6    2010        WD         Normal  \n",
       "1   12500      6    2010        WD         Normal  \n",
       "2       0      3    2010        WD         Normal  \n",
       "3       0      6    2010        WD         Normal  \n",
       "4       0      1    2010        WD         Normal  \n",
       "\n",
       "[5 rows x 80 columns]"
      ]
     },
     "execution_count": 11,
     "metadata": {},
     "output_type": "execute_result"
    }
   ],
   "source": [
    "test.head(5)"
   ]
  },
  {
   "cell_type": "code",
   "execution_count": 12,
   "metadata": {
    "execution": {
     "iopub.execute_input": "2022-05-18T16:43:02.589609Z",
     "iopub.status.busy": "2022-05-18T16:43:02.589364Z",
     "iopub.status.idle": "2022-05-18T16:43:02.595579Z",
     "shell.execute_reply": "2022-05-18T16:43:02.594946Z",
     "shell.execute_reply.started": "2022-05-18T16:43:02.589577Z"
    }
   },
   "outputs": [
    {
     "data": {
      "text/plain": [
       "((1460, 81), (1459, 80))"
      ]
     },
     "execution_count": 12,
     "metadata": {},
     "output_type": "execute_result"
    }
   ],
   "source": [
    "train.shape,test.shape"
   ]
  },
  {
   "cell_type": "code",
   "execution_count": 13,
   "metadata": {
    "execution": {
     "iopub.execute_input": "2022-05-18T16:43:02.597177Z",
     "iopub.status.busy": "2022-05-18T16:43:02.596581Z",
     "iopub.status.idle": "2022-05-18T16:43:02.617946Z",
     "shell.execute_reply": "2022-05-18T16:43:02.616933Z",
     "shell.execute_reply.started": "2022-05-18T16:43:02.597126Z"
    }
   },
   "outputs": [
    {
     "name": "stdout",
     "output_type": "stream",
     "text": [
      "train: Int64Index([   1,    2,    3,    4,    5,    6,    7,    8,    9,   10,\n",
      "            ...\n",
      "            1451, 1452, 1453, 1454, 1455, 1456, 1457, 1458, 1459, 1460],\n",
      "           dtype='int64', name='Id', length=1460) Index(['MSSubClass', 'MSZoning', 'LotFrontage', 'LotArea', 'Street', 'Alley',\n",
      "       'LotShape', 'LandContour', 'Utilities', 'LotConfig', 'LandSlope',\n",
      "       'Neighborhood', 'Condition1', 'Condition2', 'BldgType', 'HouseStyle',\n",
      "       'OverallQual', 'OverallCond', 'YearBuilt', 'YearRemodAdd', 'RoofStyle',\n",
      "       'RoofMatl', 'Exterior1st', 'Exterior2nd', 'MasVnrType', 'MasVnrArea',\n",
      "       'ExterQual', 'ExterCond', 'Foundation', 'BsmtQual', 'BsmtCond',\n",
      "       'BsmtExposure', 'BsmtFinType1', 'BsmtFinSF1', 'BsmtFinType2',\n",
      "       'BsmtFinSF2', 'BsmtUnfSF', 'TotalBsmtSF', 'Heating', 'HeatingQC',\n",
      "       'CentralAir', 'Electrical', '1stFlrSF', '2ndFlrSF', 'LowQualFinSF',\n",
      "       'GrLivArea', 'BsmtFullBath', 'BsmtHalfBath', 'FullBath', 'HalfBath',\n",
      "       'BedroomAbvGr', 'KitchenAbvGr', 'KitchenQual', 'TotRmsAbvGrd',\n",
      "       'Functional', 'Fireplaces', 'FireplaceQu', 'GarageType', 'GarageYrBlt',\n",
      "       'GarageFinish', 'GarageCars', 'GarageArea', 'GarageQual', 'GarageCond',\n",
      "       'PavedDrive', 'WoodDeckSF', 'OpenPorchSF', 'EnclosedPorch', '3SsnPorch',\n",
      "       'ScreenPorch', 'PoolArea', 'PoolQC', 'Fence', 'MiscFeature', 'MiscVal',\n",
      "       'MoSold', 'YrSold', 'SaleType', 'SaleCondition', 'SalePrice'],\n",
      "      dtype='object')\n",
      "test: Int64Index([1461, 1462, 1463, 1464, 1465, 1466, 1467, 1468, 1469, 1470,\n",
      "            ...\n",
      "            2910, 2911, 2912, 2913, 2914, 2915, 2916, 2917, 2918, 2919],\n",
      "           dtype='int64', name='Id', length=1459) Index(['MSSubClass', 'MSZoning', 'LotFrontage', 'LotArea', 'Street', 'Alley',\n",
      "       'LotShape', 'LandContour', 'Utilities', 'LotConfig', 'LandSlope',\n",
      "       'Neighborhood', 'Condition1', 'Condition2', 'BldgType', 'HouseStyle',\n",
      "       'OverallQual', 'OverallCond', 'YearBuilt', 'YearRemodAdd', 'RoofStyle',\n",
      "       'RoofMatl', 'Exterior1st', 'Exterior2nd', 'MasVnrType', 'MasVnrArea',\n",
      "       'ExterQual', 'ExterCond', 'Foundation', 'BsmtQual', 'BsmtCond',\n",
      "       'BsmtExposure', 'BsmtFinType1', 'BsmtFinSF1', 'BsmtFinType2',\n",
      "       'BsmtFinSF2', 'BsmtUnfSF', 'TotalBsmtSF', 'Heating', 'HeatingQC',\n",
      "       'CentralAir', 'Electrical', '1stFlrSF', '2ndFlrSF', 'LowQualFinSF',\n",
      "       'GrLivArea', 'BsmtFullBath', 'BsmtHalfBath', 'FullBath', 'HalfBath',\n",
      "       'BedroomAbvGr', 'KitchenAbvGr', 'KitchenQual', 'TotRmsAbvGrd',\n",
      "       'Functional', 'Fireplaces', 'FireplaceQu', 'GarageType', 'GarageYrBlt',\n",
      "       'GarageFinish', 'GarageCars', 'GarageArea', 'GarageQual', 'GarageCond',\n",
      "       'PavedDrive', 'WoodDeckSF', 'OpenPorchSF', 'EnclosedPorch', '3SsnPorch',\n",
      "       'ScreenPorch', 'PoolArea', 'PoolQC', 'Fence', 'MiscFeature', 'MiscVal',\n",
      "       'MoSold', 'YrSold', 'SaleType', 'SaleCondition'],\n",
      "      dtype='object')\n"
     ]
    }
   ],
   "source": [
    "# get index, set ID as index\n",
    "id_train = train['Id']\n",
    "id_test  = test ['Id']\n",
    "\n",
    "train.set_index('Id', drop = True, inplace = True)\n",
    "test .set_index('Id', drop = True, inplace = True)\n",
    "\n",
    "print(\"train:\",train.index,train.columns)\n",
    "print(\"test:\" ,test .index,test .columns)\n"
   ]
  },
  {
   "cell_type": "code",
   "execution_count": 14,
   "metadata": {
    "execution": {
     "iopub.execute_input": "2022-05-18T16:43:02.636912Z",
     "iopub.status.busy": "2022-05-18T16:43:02.636291Z",
     "iopub.status.idle": "2022-05-18T16:43:02.647618Z",
     "shell.execute_reply": "2022-05-18T16:43:02.646663Z",
     "shell.execute_reply.started": "2022-05-18T16:43:02.636874Z"
    }
   },
   "outputs": [
    {
     "data": {
      "text/plain": [
       "0"
      ]
     },
     "execution_count": 14,
     "metadata": {},
     "output_type": "execute_result"
    }
   ],
   "source": [
    "# separete y, check for null \n",
    "y = train['SalePrice']\n",
    "train.drop('SalePrice', axis =1, inplace = True)\n",
    "id_y = y.index   \n",
    "y.isnull().sum()"
   ]
  },
  {
   "cell_type": "markdown",
   "metadata": {},
   "source": [
    "Look at date"
   ]
  },
  {
   "cell_type": "code",
   "execution_count": 15,
   "metadata": {
    "execution": {
     "iopub.execute_input": "2022-05-18T16:43:02.649311Z",
     "iopub.status.busy": "2022-05-18T16:43:02.648855Z",
     "iopub.status.idle": "2022-05-18T16:43:02.674095Z",
     "shell.execute_reply": "2022-05-18T16:43:02.673226Z",
     "shell.execute_reply.started": "2022-05-18T16:43:02.649275Z"
    }
   },
   "outputs": [
    {
     "data": {
      "text/plain": [
       "((1460, 79),\n",
       " Index(['MSSubClass', 'MSZoning', 'LotFrontage', 'LotArea', 'Street', 'Alley',\n",
       "        'LotShape', 'LandContour', 'Utilities', 'LotConfig', 'LandSlope',\n",
       "        'Neighborhood', 'Condition1', 'Condition2', 'BldgType', 'HouseStyle',\n",
       "        'OverallQual', 'OverallCond', 'YearBuilt', 'YearRemodAdd', 'RoofStyle',\n",
       "        'RoofMatl', 'Exterior1st', 'Exterior2nd', 'MasVnrType', 'MasVnrArea',\n",
       "        'ExterQual', 'ExterCond', 'Foundation', 'BsmtQual', 'BsmtCond',\n",
       "        'BsmtExposure', 'BsmtFinType1', 'BsmtFinSF1', 'BsmtFinType2',\n",
       "        'BsmtFinSF2', 'BsmtUnfSF', 'TotalBsmtSF', 'Heating', 'HeatingQC',\n",
       "        'CentralAir', 'Electrical', '1stFlrSF', '2ndFlrSF', 'LowQualFinSF',\n",
       "        'GrLivArea', 'BsmtFullBath', 'BsmtHalfBath', 'FullBath', 'HalfBath',\n",
       "        'BedroomAbvGr', 'KitchenAbvGr', 'KitchenQual', 'TotRmsAbvGrd',\n",
       "        'Functional', 'Fireplaces', 'FireplaceQu', 'GarageType', 'GarageYrBlt',\n",
       "        'GarageFinish', 'GarageCars', 'GarageArea', 'GarageQual', 'GarageCond',\n",
       "        'PavedDrive', 'WoodDeckSF', 'OpenPorchSF', 'EnclosedPorch', '3SsnPorch',\n",
       "        'ScreenPorch', 'PoolArea', 'PoolQC', 'Fence', 'MiscFeature', 'MiscVal',\n",
       "        'MoSold', 'YrSold', 'SaleType', 'SaleCondition'],\n",
       "       dtype='object'),\n",
       " MSSubClass         int64\n",
       " MSZoning          object\n",
       " LotFrontage      float64\n",
       " LotArea            int64\n",
       " Street            object\n",
       "                   ...   \n",
       " MiscVal            int64\n",
       " MoSold             int64\n",
       " YrSold             int64\n",
       " SaleType          object\n",
       " SaleCondition     object\n",
       " Length: 79, dtype: object,\n",
       "     MSSubClass MSZoning  LotFrontage  LotArea Street Alley LotShape  \\\n",
       " Id                                                                    \n",
       " 1           60       RL         65.0     8450   Pave   NaN      Reg   \n",
       " 2           20       RL         80.0     9600   Pave   NaN      Reg   \n",
       " 3           60       RL         68.0    11250   Pave   NaN      IR1   \n",
       " 4           70       RL         60.0     9550   Pave   NaN      IR1   \n",
       " 5           60       RL         84.0    14260   Pave   NaN      IR1   \n",
       " \n",
       "    LandContour Utilities LotConfig  ... ScreenPorch PoolArea PoolQC Fence  \\\n",
       " Id                                  ...                                     \n",
       " 1          Lvl    AllPub    Inside  ...           0        0    NaN   NaN   \n",
       " 2          Lvl    AllPub       FR2  ...           0        0    NaN   NaN   \n",
       " 3          Lvl    AllPub    Inside  ...           0        0    NaN   NaN   \n",
       " 4          Lvl    AllPub    Corner  ...           0        0    NaN   NaN   \n",
       " 5          Lvl    AllPub       FR2  ...           0        0    NaN   NaN   \n",
       " \n",
       "    MiscFeature MiscVal  MoSold  YrSold  SaleType  SaleCondition  \n",
       " Id                                                               \n",
       " 1          NaN       0       2    2008        WD         Normal  \n",
       " 2          NaN       0       5    2007        WD         Normal  \n",
       " 3          NaN       0       9    2008        WD         Normal  \n",
       " 4          NaN       0       2    2006        WD        Abnorml  \n",
       " 5          NaN       0      12    2008        WD         Normal  \n",
       " \n",
       " [5 rows x 79 columns])"
      ]
     },
     "execution_count": 15,
     "metadata": {},
     "output_type": "execute_result"
    }
   ],
   "source": [
    "# Look at data\n",
    "train.shape,train.columns,train.dtypes,train.head(5)"
   ]
  },
  {
   "cell_type": "markdown",
   "metadata": {},
   "source": [
    "Separate var by types"
   ]
  },
  {
   "cell_type": "code",
   "execution_count": 16,
   "metadata": {
    "execution": {
     "iopub.execute_input": "2022-05-18T16:43:02.675983Z",
     "iopub.status.busy": "2022-05-18T16:43:02.675733Z",
     "iopub.status.idle": "2022-05-18T16:43:02.689858Z",
     "shell.execute_reply": "2022-05-18T16:43:02.689089Z",
     "shell.execute_reply.started": "2022-05-18T16:43:02.675952Z"
    }
   },
   "outputs": [
    {
     "data": {
      "text/plain": [
       "(79, 43, 33, 3)"
      ]
     },
     "execution_count": 16,
     "metadata": {},
     "output_type": "execute_result"
    }
   ],
   "source": [
    "# columns' list of types object, int, float\n",
    "columns_obj    = [column for column in train.columns if train[column].dtypes == 'object']\n",
    "columns_int    = [column for column in train.columns if train[column].dtypes == 'int64' ]\n",
    "columns_float  = [column for column in train.columns if train[column].dtypes == 'float' ]\n",
    "len(train.columns.to_list()),len(columns_obj),len(columns_int),len(columns_float)"
   ]
  },
  {
   "cell_type": "code",
   "execution_count": 17,
   "metadata": {
    "execution": {
     "iopub.execute_input": "2022-05-18T16:43:02.691361Z",
     "iopub.status.busy": "2022-05-18T16:43:02.690838Z",
     "iopub.status.idle": "2022-05-18T16:43:02.714824Z",
     "shell.execute_reply": "2022-05-18T16:43:02.713959Z",
     "shell.execute_reply.started": "2022-05-18T16:43:02.691327Z"
    }
   },
   "outputs": [
    {
     "data": {
      "text/plain": [
       "((1460, 33),\n",
       "       MSSubClass  LotArea  OverallQual  OverallCond  YearBuilt  YearRemodAdd  \\\n",
       " Id                                                                             \n",
       " 1             60     8450            7            5       2003          2003   \n",
       " 2             20     9600            6            8       1976          1976   \n",
       " 3             60    11250            7            5       2001          2002   \n",
       " 4             70     9550            7            5       1915          1970   \n",
       " 5             60    14260            8            5       2000          2000   \n",
       " ...          ...      ...          ...          ...        ...           ...   \n",
       " 1456          60     7917            6            5       1999          2000   \n",
       " 1457          20    13175            6            6       1978          1988   \n",
       " 1458          70     9042            7            9       1941          2006   \n",
       " 1459          20     9717            5            6       1950          1996   \n",
       " 1460          20     9937            5            6       1965          1965   \n",
       " \n",
       "       BsmtFinSF1  BsmtFinSF2  BsmtUnfSF  TotalBsmtSF  ...  GarageArea  \\\n",
       " Id                                                    ...               \n",
       " 1            706           0        150          856  ...         548   \n",
       " 2            978           0        284         1262  ...         460   \n",
       " 3            486           0        434          920  ...         608   \n",
       " 4            216           0        540          756  ...         642   \n",
       " 5            655           0        490         1145  ...         836   \n",
       " ...          ...         ...        ...          ...  ...         ...   \n",
       " 1456           0           0        953          953  ...         460   \n",
       " 1457         790         163        589         1542  ...         500   \n",
       " 1458         275           0        877         1152  ...         252   \n",
       " 1459          49        1029          0         1078  ...         240   \n",
       " 1460         830         290        136         1256  ...         276   \n",
       " \n",
       "       WoodDeckSF  OpenPorchSF  EnclosedPorch  3SsnPorch  ScreenPorch  \\\n",
       " Id                                                                     \n",
       " 1              0           61              0          0            0   \n",
       " 2            298            0              0          0            0   \n",
       " 3              0           42              0          0            0   \n",
       " 4              0           35            272          0            0   \n",
       " 5            192           84              0          0            0   \n",
       " ...          ...          ...            ...        ...          ...   \n",
       " 1456           0           40              0          0            0   \n",
       " 1457         349            0              0          0            0   \n",
       " 1458           0           60              0          0            0   \n",
       " 1459         366            0            112          0            0   \n",
       " 1460         736           68              0          0            0   \n",
       " \n",
       "       PoolArea  MiscVal  MoSold  YrSold  \n",
       " Id                                       \n",
       " 1            0        0       2    2008  \n",
       " 2            0        0       5    2007  \n",
       " 3            0        0       9    2008  \n",
       " 4            0        0       2    2006  \n",
       " 5            0        0      12    2008  \n",
       " ...        ...      ...     ...     ...  \n",
       " 1456         0        0       8    2007  \n",
       " 1457         0        0       2    2010  \n",
       " 1458         0     2500       5    2010  \n",
       " 1459         0        0       4    2010  \n",
       " 1460         0        0       6    2008  \n",
       " \n",
       " [1460 rows x 33 columns],\n",
       " ['MSSubClass',\n",
       "  'LotArea',\n",
       "  'OverallQual',\n",
       "  'OverallCond',\n",
       "  'YearBuilt',\n",
       "  'YearRemodAdd',\n",
       "  'BsmtFinSF1',\n",
       "  'BsmtFinSF2',\n",
       "  'BsmtUnfSF',\n",
       "  'TotalBsmtSF',\n",
       "  '1stFlrSF',\n",
       "  '2ndFlrSF',\n",
       "  'LowQualFinSF',\n",
       "  'GrLivArea',\n",
       "  'BsmtFullBath',\n",
       "  'BsmtHalfBath',\n",
       "  'FullBath',\n",
       "  'HalfBath',\n",
       "  'BedroomAbvGr',\n",
       "  'KitchenAbvGr',\n",
       "  'TotRmsAbvGrd',\n",
       "  'Fireplaces',\n",
       "  'GarageCars',\n",
       "  'GarageArea',\n",
       "  'WoodDeckSF',\n",
       "  'OpenPorchSF',\n",
       "  'EnclosedPorch',\n",
       "  '3SsnPorch',\n",
       "  'ScreenPorch',\n",
       "  'PoolArea',\n",
       "  'MiscVal',\n",
       "  'MoSold',\n",
       "  'YrSold'])"
      ]
     },
     "execution_count": 17,
     "metadata": {},
     "output_type": "execute_result"
    }
   ],
   "source": [
    "# look at columns_int to separate categorial, range, numerical variables\n",
    "train[columns_int].shape,train[columns_int],columns_int"
   ]
  },
  {
   "cell_type": "code",
   "execution_count": 18,
   "metadata": {
    "execution": {
     "iopub.execute_input": "2022-05-18T16:43:02.716257Z",
     "iopub.status.busy": "2022-05-18T16:43:02.71593Z",
     "iopub.status.idle": "2022-05-18T16:43:02.733498Z",
     "shell.execute_reply": "2022-05-18T16:43:02.732513Z",
     "shell.execute_reply.started": "2022-05-18T16:43:02.716224Z"
    }
   },
   "outputs": [
    {
     "name": "stdout",
     "output_type": "stream",
     "text": [
      "MSSubClass 15\n",
      "LotArea 1073\n",
      "OverallQual 10\n",
      "OverallCond 9\n",
      "YearBuilt 112\n",
      "YearRemodAdd 61\n",
      "BsmtFinSF1 637\n",
      "BsmtFinSF2 144\n",
      "BsmtUnfSF 780\n",
      "TotalBsmtSF 721\n",
      "1stFlrSF 753\n",
      "2ndFlrSF 417\n",
      "LowQualFinSF 24\n",
      "GrLivArea 861\n",
      "BsmtFullBath 4\n",
      "BsmtHalfBath 3\n",
      "FullBath 4\n",
      "HalfBath 3\n",
      "BedroomAbvGr 8\n",
      "KitchenAbvGr 4\n",
      "TotRmsAbvGrd 12\n",
      "Fireplaces 4\n",
      "GarageCars 5\n",
      "GarageArea 441\n",
      "WoodDeckSF 274\n",
      "OpenPorchSF 202\n",
      "EnclosedPorch 120\n",
      "3SsnPorch 20\n",
      "ScreenPorch 76\n",
      "PoolArea 8\n",
      "MiscVal 21\n",
      "MoSold 12\n",
      "YrSold 5\n"
     ]
    }
   ],
   "source": [
    "for column in columns_int: print(column,train[column].nunique())"
   ]
  },
  {
   "cell_type": "code",
   "execution_count": 19,
   "metadata": {
    "execution": {
     "iopub.execute_input": "2022-05-18T16:43:02.735383Z",
     "iopub.status.busy": "2022-05-18T16:43:02.734718Z",
     "iopub.status.idle": "2022-05-18T16:43:02.751486Z",
     "shell.execute_reply": "2022-05-18T16:43:02.750777Z",
     "shell.execute_reply.started": "2022-05-18T16:43:02.735336Z"
    }
   },
   "outputs": [
    {
     "name": "stdout",
     "output_type": "stream",
     "text": [
      "MSSubClass 15\n",
      "OverallQual 10\n",
      "OverallCond 9\n",
      "BsmtFullBath 4\n",
      "BsmtHalfBath 3\n",
      "FullBath 4\n",
      "HalfBath 3\n",
      "BedroomAbvGr 8\n",
      "KitchenAbvGr 4\n",
      "TotRmsAbvGrd 12\n",
      "Fireplaces 4\n",
      "GarageCars 5\n",
      "PoolArea 8\n",
      "MoSold 12\n"
     ]
    },
    {
     "data": {
      "text/plain": [
       "14"
      ]
     },
     "execution_count": 19,
     "metadata": {},
     "output_type": "execute_result"
    }
   ],
   "source": [
    "# select different types of  int variables: cat, range, numerical.\n",
    "columns_int_years            = ['YearBuilt','YearRemodAdd','YrSold']\n",
    "columns_not_result_not_year  = [column for column in columns_int                 if column not in columns_int_years] \n",
    "columns_int_numerical        = [column for column in columns_not_result_not_year if train[column].nunique()>15]\n",
    "columns_int_not_num          = [column for column in columns_not_result_not_year if column not in columns_int_numerical]   \n",
    "for column in columns_int_not_num: print(column,train[column].nunique())\n",
    "len(columns_int_not_num)"
   ]
  },
  {
   "cell_type": "code",
   "execution_count": 20,
   "metadata": {
    "execution": {
     "iopub.execute_input": "2022-05-18T16:43:02.757246Z",
     "iopub.status.busy": "2022-05-18T16:43:02.756779Z",
     "iopub.status.idle": "2022-05-18T16:43:02.764733Z",
     "shell.execute_reply": "2022-05-18T16:43:02.764154Z",
     "shell.execute_reply.started": "2022-05-18T16:43:02.757201Z"
    }
   },
   "outputs": [
    {
     "data": {
      "text/plain": [
       "(33, 3, 30, 16, 14)"
      ]
     },
     "execution_count": 20,
     "metadata": {},
     "output_type": "execute_result"
    }
   ],
   "source": [
    "len(columns_int),len(columns_int_years),len(columns_not_result_not_year),len(columns_int_numerical),len(columns_int_not_num)"
   ]
  },
  {
   "cell_type": "code",
   "execution_count": 21,
   "metadata": {
    "execution": {
     "iopub.execute_input": "2022-05-18T16:43:02.7663Z",
     "iopub.status.busy": "2022-05-18T16:43:02.765885Z",
     "iopub.status.idle": "2022-05-18T16:43:02.777751Z",
     "shell.execute_reply": "2022-05-18T16:43:02.77671Z",
     "shell.execute_reply.started": "2022-05-18T16:43:02.766262Z"
    }
   },
   "outputs": [
    {
     "data": {
      "text/plain": [
       "['LotArea',\n",
       " 'BsmtFinSF1',\n",
       " 'BsmtFinSF2',\n",
       " 'BsmtUnfSF',\n",
       " 'TotalBsmtSF',\n",
       " '1stFlrSF',\n",
       " '2ndFlrSF',\n",
       " 'LowQualFinSF',\n",
       " 'GrLivArea',\n",
       " 'GarageArea',\n",
       " 'WoodDeckSF',\n",
       " 'OpenPorchSF',\n",
       " 'EnclosedPorch',\n",
       " '3SsnPorch',\n",
       " 'ScreenPorch',\n",
       " 'MiscVal']"
      ]
     },
     "execution_count": 21,
     "metadata": {},
     "output_type": "execute_result"
    }
   ],
   "source": [
    "columns_int_numerical"
   ]
  },
  {
   "cell_type": "code",
   "execution_count": 22,
   "metadata": {
    "execution": {
     "iopub.execute_input": "2022-05-18T16:43:02.779782Z",
     "iopub.status.busy": "2022-05-18T16:43:02.779066Z",
     "iopub.status.idle": "2022-05-18T16:43:02.800796Z",
     "shell.execute_reply": "2022-05-18T16:43:02.799873Z",
     "shell.execute_reply.started": "2022-05-18T16:43:02.779742Z"
    }
   },
   "outputs": [
    {
     "data": {
      "text/html": [
       "<div>\n",
       "<style scoped>\n",
       "    .dataframe tbody tr th:only-of-type {\n",
       "        vertical-align: middle;\n",
       "    }\n",
       "\n",
       "    .dataframe tbody tr th {\n",
       "        vertical-align: top;\n",
       "    }\n",
       "\n",
       "    .dataframe thead th {\n",
       "        text-align: right;\n",
       "    }\n",
       "</style>\n",
       "<table border=\"1\" class=\"dataframe\">\n",
       "  <thead>\n",
       "    <tr style=\"text-align: right;\">\n",
       "      <th></th>\n",
       "      <th>BsmtFullBath</th>\n",
       "      <th>FullBath</th>\n",
       "    </tr>\n",
       "  </thead>\n",
       "  <tbody>\n",
       "    <tr>\n",
       "      <th>BsmtFullBath</th>\n",
       "      <td>1.000000</td>\n",
       "      <td>-0.056379</td>\n",
       "    </tr>\n",
       "    <tr>\n",
       "      <th>FullBath</th>\n",
       "      <td>-0.056379</td>\n",
       "      <td>1.000000</td>\n",
       "    </tr>\n",
       "  </tbody>\n",
       "</table>\n",
       "</div>"
      ],
      "text/plain": [
       "              BsmtFullBath  FullBath\n",
       "BsmtFullBath      1.000000 -0.056379\n",
       "FullBath         -0.056379  1.000000"
      ]
     },
     "execution_count": 22,
     "metadata": {},
     "output_type": "execute_result"
    }
   ],
   "source": [
    "train['BsmtFullBath'].unique(),train['BsmtHalfBath'].unique()\n",
    "train[['BsmtFullBath','FullBath']].corr(method ='spearman')"
   ]
  },
  {
   "cell_type": "code",
   "execution_count": 23,
   "metadata": {
    "execution": {
     "iopub.execute_input": "2022-05-18T16:43:02.803291Z",
     "iopub.status.busy": "2022-05-18T16:43:02.802184Z",
     "iopub.status.idle": "2022-05-18T16:43:02.810595Z",
     "shell.execute_reply": "2022-05-18T16:43:02.809599Z",
     "shell.execute_reply.started": "2022-05-18T16:43:02.803171Z"
    }
   },
   "outputs": [],
   "source": [
    "columns_int_numerical.append('PoolArea'  )\n",
    "columns_int_numerical.append('GarageCars')\n",
    "columns_int_numerical.append('Fireplaces')\n",
    "#columns_int_numerical.append('BsmtFullBath')\n",
    "#columns_int_numerical.append('BsmtHalfBath')\n",
    "#columns_int_numerical.append('FullBath')\n",
    "#columns_int_numerical.append('HalfBath')\n",
    "columns_int_numerical.append('TotRmsAbvGrd')\n",
    "columns_int_numerical.append('BedroomAbvGr')\n",
    "columns_int_numerical.append('KitchenAbvGr')"
   ]
  },
  {
   "cell_type": "code",
   "execution_count": 24,
   "metadata": {
    "execution": {
     "iopub.execute_input": "2022-05-18T16:43:02.812018Z",
     "iopub.status.busy": "2022-05-18T16:43:02.811781Z",
     "iopub.status.idle": "2022-05-18T16:43:02.828771Z",
     "shell.execute_reply": "2022-05-18T16:43:02.827905Z",
     "shell.execute_reply.started": "2022-05-18T16:43:02.811989Z"
    }
   },
   "outputs": [
    {
     "name": "stdout",
     "output_type": "stream",
     "text": [
      "MSSubClass 15\n",
      "OverallQual 10\n",
      "OverallCond 9\n",
      "BsmtFullBath 4\n",
      "BsmtHalfBath 3\n",
      "FullBath 4\n",
      "HalfBath 3\n",
      "MoSold 12\n"
     ]
    },
    {
     "data": {
      "text/plain": [
       "8"
      ]
     },
     "execution_count": 24,
     "metadata": {},
     "output_type": "execute_result"
    }
   ],
   "source": [
    "columns_rest_3 = [column for column in columns_not_result_not_year if column not in columns_int_numerical]   \n",
    "for column in columns_rest_3: print(column,train[column].nunique())\n",
    "len(columns_rest_3)"
   ]
  },
  {
   "cell_type": "code",
   "execution_count": 25,
   "metadata": {
    "execution": {
     "iopub.execute_input": "2022-05-18T16:43:02.830558Z",
     "iopub.status.busy": "2022-05-18T16:43:02.8301Z",
     "iopub.status.idle": "2022-05-18T16:43:02.837833Z",
     "shell.execute_reply": "2022-05-18T16:43:02.836898Z",
     "shell.execute_reply.started": "2022-05-18T16:43:02.830525Z"
    }
   },
   "outputs": [
    {
     "data": {
      "text/plain": [
       "(33, 3, 30, 22, 8)"
      ]
     },
     "execution_count": 25,
     "metadata": {},
     "output_type": "execute_result"
    }
   ],
   "source": [
    "len(columns_int),len(columns_int_years),len(columns_not_result_not_year),len(columns_int_numerical),len(columns_rest_3)"
   ]
  },
  {
   "cell_type": "code",
   "execution_count": 26,
   "metadata": {
    "execution": {
     "iopub.execute_input": "2022-05-18T16:43:02.839836Z",
     "iopub.status.busy": "2022-05-18T16:43:02.839438Z",
     "iopub.status.idle": "2022-05-18T16:43:02.849389Z",
     "shell.execute_reply": "2022-05-18T16:43:02.848397Z",
     "shell.execute_reply.started": "2022-05-18T16:43:02.839794Z"
    }
   },
   "outputs": [],
   "source": [
    "columns_num_range = ['MoSold','OverallQual','OverallCond','BsmtFullBath','BsmtHalfBath','FullBath','HalfBath']\n",
    "# try put \"Baths\" into cat!!!\n",
    "columns_num_cat   = ['MSSubClass',]"
   ]
  },
  {
   "cell_type": "code",
   "execution_count": 27,
   "metadata": {
    "execution": {
     "iopub.execute_input": "2022-05-18T16:43:02.851227Z",
     "iopub.status.busy": "2022-05-18T16:43:02.850571Z",
     "iopub.status.idle": "2022-05-18T16:43:02.865864Z",
     "shell.execute_reply": "2022-05-18T16:43:02.86518Z",
     "shell.execute_reply.started": "2022-05-18T16:43:02.851192Z"
    }
   },
   "outputs": [
    {
     "data": {
      "text/plain": [
       "[]"
      ]
     },
     "execution_count": 27,
     "metadata": {},
     "output_type": "execute_result"
    }
   ],
   "source": [
    "# check if all columns are classified\n",
    "rest = [column for column in train.columns if (\n",
    "        (column not in\n",
    "         columns_obj+\n",
    "         columns_float+\n",
    "         columns_int_numerical+\n",
    "         columns_num_range+\n",
    "         columns_num_cat+\n",
    "         columns_int_years)\n",
    "       )]\n",
    "rest"
   ]
  },
  {
   "cell_type": "code",
   "execution_count": 28,
   "metadata": {},
   "outputs": [],
   "source": [
    "columns_dif_types_x = {'columns_obj':columns_obj,\n",
    "                     'columns_float':columns_float,\n",
    "                     'columns_int_numerical':columns_int_numerical,\n",
    "                     'columns_num_range':columns_num_range,\n",
    "                     'columns_num_cat':columns_num_cat,\n",
    "                     'columns_int_years':columns_int_years}"
   ]
  },
  {
   "cell_type": "markdown",
   "metadata": {
    "execution": {
     "iopub.execute_input": "2022-04-27T19:30:52.371922Z",
     "iopub.status.busy": "2022-04-27T19:30:52.370819Z",
     "iopub.status.idle": "2022-04-27T19:30:52.397621Z",
     "shell.execute_reply": "2022-04-27T19:30:52.396616Z",
     "shell.execute_reply.started": "2022-04-27T19:30:52.371753Z"
    }
   },
   "source": [
    "Check for null"
   ]
  },
  {
   "cell_type": "code",
   "execution_count": 29,
   "metadata": {
    "execution": {
     "iopub.execute_input": "2022-05-18T16:43:02.897013Z",
     "iopub.status.busy": "2022-05-18T16:43:02.896573Z",
     "iopub.status.idle": "2022-05-18T16:43:02.921776Z",
     "shell.execute_reply": "2022-05-18T16:43:02.920803Z",
     "shell.execute_reply.started": "2022-05-18T16:43:02.896973Z"
    }
   },
   "outputs": [
    {
     "data": {
      "text/plain": [
       "((1460, 79), (1459, 79), (2919, 79))"
      ]
     },
     "execution_count": 29,
     "metadata": {},
     "output_type": "execute_result"
    }
   ],
   "source": [
    "# To check for null we put together all three data set\n",
    "dataset = pd.concat([train,test],axis =0)\n",
    "train.shape,test.shape,dataset.shape\n"
   ]
  },
  {
   "cell_type": "code",
   "execution_count": 30,
   "metadata": {
    "execution": {
     "iopub.execute_input": "2022-05-18T16:43:02.923673Z",
     "iopub.status.busy": "2022-05-18T16:43:02.923263Z",
     "iopub.status.idle": "2022-05-18T16:43:02.948502Z",
     "shell.execute_reply": "2022-05-18T16:43:02.947557Z",
     "shell.execute_reply.started": "2022-05-18T16:43:02.923642Z"
    }
   },
   "outputs": [
    {
     "data": {
      "text/html": [
       "<div>\n",
       "<style scoped>\n",
       "    .dataframe tbody tr th:only-of-type {\n",
       "        vertical-align: middle;\n",
       "    }\n",
       "\n",
       "    .dataframe tbody tr th {\n",
       "        vertical-align: top;\n",
       "    }\n",
       "\n",
       "    .dataframe thead th {\n",
       "        text-align: right;\n",
       "    }\n",
       "</style>\n",
       "<table border=\"1\" class=\"dataframe\">\n",
       "  <thead>\n",
       "    <tr style=\"text-align: right;\">\n",
       "      <th></th>\n",
       "      <th>MSSubClass</th>\n",
       "      <th>MSZoning</th>\n",
       "      <th>LotFrontage</th>\n",
       "      <th>LotArea</th>\n",
       "      <th>Street</th>\n",
       "      <th>Alley</th>\n",
       "      <th>LotShape</th>\n",
       "      <th>LandContour</th>\n",
       "      <th>Utilities</th>\n",
       "      <th>LotConfig</th>\n",
       "      <th>...</th>\n",
       "      <th>ScreenPorch</th>\n",
       "      <th>PoolArea</th>\n",
       "      <th>PoolQC</th>\n",
       "      <th>Fence</th>\n",
       "      <th>MiscFeature</th>\n",
       "      <th>MiscVal</th>\n",
       "      <th>MoSold</th>\n",
       "      <th>YrSold</th>\n",
       "      <th>SaleType</th>\n",
       "      <th>SaleCondition</th>\n",
       "    </tr>\n",
       "    <tr>\n",
       "      <th>Id</th>\n",
       "      <th></th>\n",
       "      <th></th>\n",
       "      <th></th>\n",
       "      <th></th>\n",
       "      <th></th>\n",
       "      <th></th>\n",
       "      <th></th>\n",
       "      <th></th>\n",
       "      <th></th>\n",
       "      <th></th>\n",
       "      <th></th>\n",
       "      <th></th>\n",
       "      <th></th>\n",
       "      <th></th>\n",
       "      <th></th>\n",
       "      <th></th>\n",
       "      <th></th>\n",
       "      <th></th>\n",
       "      <th></th>\n",
       "      <th></th>\n",
       "      <th></th>\n",
       "    </tr>\n",
       "  </thead>\n",
       "  <tbody>\n",
       "    <tr>\n",
       "      <th>1</th>\n",
       "      <td>60</td>\n",
       "      <td>RL</td>\n",
       "      <td>65.0</td>\n",
       "      <td>8450</td>\n",
       "      <td>Pave</td>\n",
       "      <td>NaN</td>\n",
       "      <td>Reg</td>\n",
       "      <td>Lvl</td>\n",
       "      <td>AllPub</td>\n",
       "      <td>Inside</td>\n",
       "      <td>...</td>\n",
       "      <td>0</td>\n",
       "      <td>0</td>\n",
       "      <td>NaN</td>\n",
       "      <td>NaN</td>\n",
       "      <td>NaN</td>\n",
       "      <td>0</td>\n",
       "      <td>2</td>\n",
       "      <td>2008</td>\n",
       "      <td>WD</td>\n",
       "      <td>Normal</td>\n",
       "    </tr>\n",
       "    <tr>\n",
       "      <th>2</th>\n",
       "      <td>20</td>\n",
       "      <td>RL</td>\n",
       "      <td>80.0</td>\n",
       "      <td>9600</td>\n",
       "      <td>Pave</td>\n",
       "      <td>NaN</td>\n",
       "      <td>Reg</td>\n",
       "      <td>Lvl</td>\n",
       "      <td>AllPub</td>\n",
       "      <td>FR2</td>\n",
       "      <td>...</td>\n",
       "      <td>0</td>\n",
       "      <td>0</td>\n",
       "      <td>NaN</td>\n",
       "      <td>NaN</td>\n",
       "      <td>NaN</td>\n",
       "      <td>0</td>\n",
       "      <td>5</td>\n",
       "      <td>2007</td>\n",
       "      <td>WD</td>\n",
       "      <td>Normal</td>\n",
       "    </tr>\n",
       "    <tr>\n",
       "      <th>3</th>\n",
       "      <td>60</td>\n",
       "      <td>RL</td>\n",
       "      <td>68.0</td>\n",
       "      <td>11250</td>\n",
       "      <td>Pave</td>\n",
       "      <td>NaN</td>\n",
       "      <td>IR1</td>\n",
       "      <td>Lvl</td>\n",
       "      <td>AllPub</td>\n",
       "      <td>Inside</td>\n",
       "      <td>...</td>\n",
       "      <td>0</td>\n",
       "      <td>0</td>\n",
       "      <td>NaN</td>\n",
       "      <td>NaN</td>\n",
       "      <td>NaN</td>\n",
       "      <td>0</td>\n",
       "      <td>9</td>\n",
       "      <td>2008</td>\n",
       "      <td>WD</td>\n",
       "      <td>Normal</td>\n",
       "    </tr>\n",
       "    <tr>\n",
       "      <th>4</th>\n",
       "      <td>70</td>\n",
       "      <td>RL</td>\n",
       "      <td>60.0</td>\n",
       "      <td>9550</td>\n",
       "      <td>Pave</td>\n",
       "      <td>NaN</td>\n",
       "      <td>IR1</td>\n",
       "      <td>Lvl</td>\n",
       "      <td>AllPub</td>\n",
       "      <td>Corner</td>\n",
       "      <td>...</td>\n",
       "      <td>0</td>\n",
       "      <td>0</td>\n",
       "      <td>NaN</td>\n",
       "      <td>NaN</td>\n",
       "      <td>NaN</td>\n",
       "      <td>0</td>\n",
       "      <td>2</td>\n",
       "      <td>2006</td>\n",
       "      <td>WD</td>\n",
       "      <td>Abnorml</td>\n",
       "    </tr>\n",
       "    <tr>\n",
       "      <th>5</th>\n",
       "      <td>60</td>\n",
       "      <td>RL</td>\n",
       "      <td>84.0</td>\n",
       "      <td>14260</td>\n",
       "      <td>Pave</td>\n",
       "      <td>NaN</td>\n",
       "      <td>IR1</td>\n",
       "      <td>Lvl</td>\n",
       "      <td>AllPub</td>\n",
       "      <td>FR2</td>\n",
       "      <td>...</td>\n",
       "      <td>0</td>\n",
       "      <td>0</td>\n",
       "      <td>NaN</td>\n",
       "      <td>NaN</td>\n",
       "      <td>NaN</td>\n",
       "      <td>0</td>\n",
       "      <td>12</td>\n",
       "      <td>2008</td>\n",
       "      <td>WD</td>\n",
       "      <td>Normal</td>\n",
       "    </tr>\n",
       "  </tbody>\n",
       "</table>\n",
       "<p>5 rows × 79 columns</p>\n",
       "</div>"
      ],
      "text/plain": [
       "    MSSubClass MSZoning  LotFrontage  LotArea Street Alley LotShape  \\\n",
       "Id                                                                    \n",
       "1           60       RL         65.0     8450   Pave   NaN      Reg   \n",
       "2           20       RL         80.0     9600   Pave   NaN      Reg   \n",
       "3           60       RL         68.0    11250   Pave   NaN      IR1   \n",
       "4           70       RL         60.0     9550   Pave   NaN      IR1   \n",
       "5           60       RL         84.0    14260   Pave   NaN      IR1   \n",
       "\n",
       "   LandContour Utilities LotConfig  ... ScreenPorch PoolArea PoolQC Fence  \\\n",
       "Id                                  ...                                     \n",
       "1          Lvl    AllPub    Inside  ...           0        0    NaN   NaN   \n",
       "2          Lvl    AllPub       FR2  ...           0        0    NaN   NaN   \n",
       "3          Lvl    AllPub    Inside  ...           0        0    NaN   NaN   \n",
       "4          Lvl    AllPub    Corner  ...           0        0    NaN   NaN   \n",
       "5          Lvl    AllPub       FR2  ...           0        0    NaN   NaN   \n",
       "\n",
       "   MiscFeature MiscVal  MoSold  YrSold  SaleType  SaleCondition  \n",
       "Id                                                               \n",
       "1          NaN       0       2    2008        WD         Normal  \n",
       "2          NaN       0       5    2007        WD         Normal  \n",
       "3          NaN       0       9    2008        WD         Normal  \n",
       "4          NaN       0       2    2006        WD        Abnorml  \n",
       "5          NaN       0      12    2008        WD         Normal  \n",
       "\n",
       "[5 rows x 79 columns]"
      ]
     },
     "execution_count": 30,
     "metadata": {},
     "output_type": "execute_result"
    }
   ],
   "source": [
    "dataset.head(5)"
   ]
  },
  {
   "cell_type": "code",
   "execution_count": 31,
   "metadata": {
    "execution": {
     "iopub.execute_input": "2022-05-18T16:43:02.950181Z",
     "iopub.status.busy": "2022-05-18T16:43:02.949686Z",
     "iopub.status.idle": "2022-05-18T16:43:02.954779Z",
     "shell.execute_reply": "2022-05-18T16:43:02.953949Z",
     "shell.execute_reply.started": "2022-05-18T16:43:02.950134Z"
    }
   },
   "outputs": [],
   "source": [
    "ind_dataset_list = list(dataset.index)"
   ]
  },
  {
   "cell_type": "code",
   "execution_count": 32,
   "metadata": {
    "execution": {
     "iopub.execute_input": "2022-05-18T16:43:02.956384Z",
     "iopub.status.busy": "2022-05-18T16:43:02.955745Z",
     "iopub.status.idle": "2022-05-18T16:43:02.969574Z",
     "shell.execute_reply": "2022-05-18T16:43:02.968539Z",
     "shell.execute_reply.started": "2022-05-18T16:43:02.956348Z"
    }
   },
   "outputs": [
    {
     "data": {
      "text/plain": [
       "(Int64Index([   1,    2,    3,    4,    5,    6,    7,    8,    9,   10,\n",
       "             ...\n",
       "             1451, 1452, 1453, 1454, 1455, 1456, 1457, 1458, 1459, 1460],\n",
       "            dtype='int64', name='Id', length=1460),\n",
       " Int64Index([1461, 1462, 1463, 1464, 1465, 1466, 1467, 1468, 1469, 1470,\n",
       "             ...\n",
       "             2910, 2911, 2912, 2913, 2914, 2915, 2916, 2917, 2918, 2919],\n",
       "            dtype='int64', name='Id', length=1459))"
      ]
     },
     "execution_count": 32,
     "metadata": {},
     "output_type": "execute_result"
    }
   ],
   "source": [
    "train.index,test.index"
   ]
  },
  {
   "cell_type": "code",
   "execution_count": 33,
   "metadata": {
    "execution": {
     "iopub.execute_input": "2022-05-18T16:43:02.98636Z",
     "iopub.status.busy": "2022-05-18T16:43:02.985881Z",
     "iopub.status.idle": "2022-05-18T16:43:03.055136Z",
     "shell.execute_reply": "2022-05-18T16:43:03.054312Z",
     "shell.execute_reply.started": "2022-05-18T16:43:02.986318Z"
    }
   },
   "outputs": [
    {
     "name": "stdout",
     "output_type": "stream",
     "text": [
      "2919 79\n",
      "(79, 4)\n"
     ]
    },
    {
     "data": {
      "text/html": [
       "<div>\n",
       "<style scoped>\n",
       "    .dataframe tbody tr th:only-of-type {\n",
       "        vertical-align: middle;\n",
       "    }\n",
       "\n",
       "    .dataframe tbody tr th {\n",
       "        vertical-align: top;\n",
       "    }\n",
       "\n",
       "    .dataframe thead th {\n",
       "        text-align: right;\n",
       "    }\n",
       "</style>\n",
       "<table border=\"1\" class=\"dataframe\">\n",
       "  <thead>\n",
       "    <tr style=\"text-align: right;\">\n",
       "      <th></th>\n",
       "      <th>dtype</th>\n",
       "      <th>column</th>\n",
       "      <th>null_n</th>\n",
       "      <th>null_percents</th>\n",
       "    </tr>\n",
       "  </thead>\n",
       "  <tbody>\n",
       "    <tr>\n",
       "      <th>38</th>\n",
       "      <td>columns_obj</td>\n",
       "      <td>PoolQC</td>\n",
       "      <td>2909</td>\n",
       "      <td>0.996574</td>\n",
       "    </tr>\n",
       "    <tr>\n",
       "      <th>40</th>\n",
       "      <td>columns_obj</td>\n",
       "      <td>MiscFeature</td>\n",
       "      <td>2814</td>\n",
       "      <td>0.964029</td>\n",
       "    </tr>\n",
       "    <tr>\n",
       "      <th>2</th>\n",
       "      <td>columns_obj</td>\n",
       "      <td>Alley</td>\n",
       "      <td>2721</td>\n",
       "      <td>0.932169</td>\n",
       "    </tr>\n",
       "    <tr>\n",
       "      <th>39</th>\n",
       "      <td>columns_obj</td>\n",
       "      <td>Fence</td>\n",
       "      <td>2348</td>\n",
       "      <td>0.804385</td>\n",
       "    </tr>\n",
       "    <tr>\n",
       "      <th>32</th>\n",
       "      <td>columns_obj</td>\n",
       "      <td>FireplaceQu</td>\n",
       "      <td>1420</td>\n",
       "      <td>0.486468</td>\n",
       "    </tr>\n",
       "    <tr>\n",
       "      <th>43</th>\n",
       "      <td>columns_float</td>\n",
       "      <td>LotFrontage</td>\n",
       "      <td>486</td>\n",
       "      <td>0.166495</td>\n",
       "    </tr>\n",
       "    <tr>\n",
       "      <th>36</th>\n",
       "      <td>columns_obj</td>\n",
       "      <td>GarageCond</td>\n",
       "      <td>159</td>\n",
       "      <td>0.054471</td>\n",
       "    </tr>\n",
       "    <tr>\n",
       "      <th>34</th>\n",
       "      <td>columns_obj</td>\n",
       "      <td>GarageFinish</td>\n",
       "      <td>159</td>\n",
       "      <td>0.054471</td>\n",
       "    </tr>\n",
       "    <tr>\n",
       "      <th>35</th>\n",
       "      <td>columns_obj</td>\n",
       "      <td>GarageQual</td>\n",
       "      <td>159</td>\n",
       "      <td>0.054471</td>\n",
       "    </tr>\n",
       "    <tr>\n",
       "      <th>45</th>\n",
       "      <td>columns_float</td>\n",
       "      <td>GarageYrBlt</td>\n",
       "      <td>159</td>\n",
       "      <td>0.054471</td>\n",
       "    </tr>\n",
       "    <tr>\n",
       "      <th>33</th>\n",
       "      <td>columns_obj</td>\n",
       "      <td>GarageType</td>\n",
       "      <td>157</td>\n",
       "      <td>0.053786</td>\n",
       "    </tr>\n",
       "    <tr>\n",
       "      <th>23</th>\n",
       "      <td>columns_obj</td>\n",
       "      <td>BsmtExposure</td>\n",
       "      <td>82</td>\n",
       "      <td>0.028092</td>\n",
       "    </tr>\n",
       "    <tr>\n",
       "      <th>22</th>\n",
       "      <td>columns_obj</td>\n",
       "      <td>BsmtCond</td>\n",
       "      <td>82</td>\n",
       "      <td>0.028092</td>\n",
       "    </tr>\n",
       "    <tr>\n",
       "      <th>21</th>\n",
       "      <td>columns_obj</td>\n",
       "      <td>BsmtQual</td>\n",
       "      <td>81</td>\n",
       "      <td>0.027749</td>\n",
       "    </tr>\n",
       "    <tr>\n",
       "      <th>25</th>\n",
       "      <td>columns_obj</td>\n",
       "      <td>BsmtFinType2</td>\n",
       "      <td>80</td>\n",
       "      <td>0.027407</td>\n",
       "    </tr>\n",
       "    <tr>\n",
       "      <th>24</th>\n",
       "      <td>columns_obj</td>\n",
       "      <td>BsmtFinType1</td>\n",
       "      <td>79</td>\n",
       "      <td>0.027064</td>\n",
       "    </tr>\n",
       "    <tr>\n",
       "      <th>17</th>\n",
       "      <td>columns_obj</td>\n",
       "      <td>MasVnrType</td>\n",
       "      <td>24</td>\n",
       "      <td>0.008222</td>\n",
       "    </tr>\n",
       "    <tr>\n",
       "      <th>44</th>\n",
       "      <td>columns_float</td>\n",
       "      <td>MasVnrArea</td>\n",
       "      <td>23</td>\n",
       "      <td>0.007879</td>\n",
       "    </tr>\n",
       "    <tr>\n",
       "      <th>0</th>\n",
       "      <td>columns_obj</td>\n",
       "      <td>MSZoning</td>\n",
       "      <td>4</td>\n",
       "      <td>0.001370</td>\n",
       "    </tr>\n",
       "    <tr>\n",
       "      <th>5</th>\n",
       "      <td>columns_obj</td>\n",
       "      <td>Utilities</td>\n",
       "      <td>2</td>\n",
       "      <td>0.000685</td>\n",
       "    </tr>\n",
       "    <tr>\n",
       "      <th>71</th>\n",
       "      <td>columns_num_range</td>\n",
       "      <td>BsmtFullBath</td>\n",
       "      <td>2</td>\n",
       "      <td>0.000685</td>\n",
       "    </tr>\n",
       "    <tr>\n",
       "      <th>72</th>\n",
       "      <td>columns_num_range</td>\n",
       "      <td>BsmtHalfBath</td>\n",
       "      <td>2</td>\n",
       "      <td>0.000685</td>\n",
       "    </tr>\n",
       "    <tr>\n",
       "      <th>31</th>\n",
       "      <td>columns_obj</td>\n",
       "      <td>Functional</td>\n",
       "      <td>2</td>\n",
       "      <td>0.000685</td>\n",
       "    </tr>\n",
       "    <tr>\n",
       "      <th>49</th>\n",
       "      <td>columns_int_numerical</td>\n",
       "      <td>BsmtUnfSF</td>\n",
       "      <td>1</td>\n",
       "      <td>0.000343</td>\n",
       "    </tr>\n",
       "    <tr>\n",
       "      <th>30</th>\n",
       "      <td>columns_obj</td>\n",
       "      <td>KitchenQual</td>\n",
       "      <td>1</td>\n",
       "      <td>0.000343</td>\n",
       "    </tr>\n",
       "    <tr>\n",
       "      <th>50</th>\n",
       "      <td>columns_int_numerical</td>\n",
       "      <td>TotalBsmtSF</td>\n",
       "      <td>1</td>\n",
       "      <td>0.000343</td>\n",
       "    </tr>\n",
       "    <tr>\n",
       "      <th>48</th>\n",
       "      <td>columns_int_numerical</td>\n",
       "      <td>BsmtFinSF2</td>\n",
       "      <td>1</td>\n",
       "      <td>0.000343</td>\n",
       "    </tr>\n",
       "    <tr>\n",
       "      <th>47</th>\n",
       "      <td>columns_int_numerical</td>\n",
       "      <td>BsmtFinSF1</td>\n",
       "      <td>1</td>\n",
       "      <td>0.000343</td>\n",
       "    </tr>\n",
       "    <tr>\n",
       "      <th>41</th>\n",
       "      <td>columns_obj</td>\n",
       "      <td>SaleType</td>\n",
       "      <td>1</td>\n",
       "      <td>0.000343</td>\n",
       "    </tr>\n",
       "    <tr>\n",
       "      <th>63</th>\n",
       "      <td>columns_int_numerical</td>\n",
       "      <td>GarageCars</td>\n",
       "      <td>1</td>\n",
       "      <td>0.000343</td>\n",
       "    </tr>\n",
       "    <tr>\n",
       "      <th>55</th>\n",
       "      <td>columns_int_numerical</td>\n",
       "      <td>GarageArea</td>\n",
       "      <td>1</td>\n",
       "      <td>0.000343</td>\n",
       "    </tr>\n",
       "    <tr>\n",
       "      <th>29</th>\n",
       "      <td>columns_obj</td>\n",
       "      <td>Electrical</td>\n",
       "      <td>1</td>\n",
       "      <td>0.000343</td>\n",
       "    </tr>\n",
       "    <tr>\n",
       "      <th>16</th>\n",
       "      <td>columns_obj</td>\n",
       "      <td>Exterior2nd</td>\n",
       "      <td>1</td>\n",
       "      <td>0.000343</td>\n",
       "    </tr>\n",
       "    <tr>\n",
       "      <th>15</th>\n",
       "      <td>columns_obj</td>\n",
       "      <td>Exterior1st</td>\n",
       "      <td>1</td>\n",
       "      <td>0.000343</td>\n",
       "    </tr>\n",
       "    <tr>\n",
       "      <th>76</th>\n",
       "      <td>columns_int_years</td>\n",
       "      <td>YearBuilt</td>\n",
       "      <td>0</td>\n",
       "      <td>0.000000</td>\n",
       "    </tr>\n",
       "    <tr>\n",
       "      <th>56</th>\n",
       "      <td>columns_int_numerical</td>\n",
       "      <td>WoodDeckSF</td>\n",
       "      <td>0</td>\n",
       "      <td>0.000000</td>\n",
       "    </tr>\n",
       "    <tr>\n",
       "      <th>57</th>\n",
       "      <td>columns_int_numerical</td>\n",
       "      <td>OpenPorchSF</td>\n",
       "      <td>0</td>\n",
       "      <td>0.000000</td>\n",
       "    </tr>\n",
       "    <tr>\n",
       "      <th>77</th>\n",
       "      <td>columns_int_years</td>\n",
       "      <td>YearRemodAdd</td>\n",
       "      <td>0</td>\n",
       "      <td>0.000000</td>\n",
       "    </tr>\n",
       "    <tr>\n",
       "      <th>58</th>\n",
       "      <td>columns_int_numerical</td>\n",
       "      <td>EnclosedPorch</td>\n",
       "      <td>0</td>\n",
       "      <td>0.000000</td>\n",
       "    </tr>\n",
       "    <tr>\n",
       "      <th>59</th>\n",
       "      <td>columns_int_numerical</td>\n",
       "      <td>3SsnPorch</td>\n",
       "      <td>0</td>\n",
       "      <td>0.000000</td>\n",
       "    </tr>\n",
       "    <tr>\n",
       "      <th>60</th>\n",
       "      <td>columns_int_numerical</td>\n",
       "      <td>ScreenPorch</td>\n",
       "      <td>0</td>\n",
       "      <td>0.000000</td>\n",
       "    </tr>\n",
       "    <tr>\n",
       "      <th>61</th>\n",
       "      <td>columns_int_numerical</td>\n",
       "      <td>MiscVal</td>\n",
       "      <td>0</td>\n",
       "      <td>0.000000</td>\n",
       "    </tr>\n",
       "    <tr>\n",
       "      <th>62</th>\n",
       "      <td>columns_int_numerical</td>\n",
       "      <td>PoolArea</td>\n",
       "      <td>0</td>\n",
       "      <td>0.000000</td>\n",
       "    </tr>\n",
       "    <tr>\n",
       "      <th>73</th>\n",
       "      <td>columns_num_range</td>\n",
       "      <td>FullBath</td>\n",
       "      <td>0</td>\n",
       "      <td>0.000000</td>\n",
       "    </tr>\n",
       "    <tr>\n",
       "      <th>75</th>\n",
       "      <td>columns_num_cat</td>\n",
       "      <td>MSSubClass</td>\n",
       "      <td>0</td>\n",
       "      <td>0.000000</td>\n",
       "    </tr>\n",
       "    <tr>\n",
       "      <th>74</th>\n",
       "      <td>columns_num_range</td>\n",
       "      <td>HalfBath</td>\n",
       "      <td>0</td>\n",
       "      <td>0.000000</td>\n",
       "    </tr>\n",
       "    <tr>\n",
       "      <th>64</th>\n",
       "      <td>columns_int_numerical</td>\n",
       "      <td>Fireplaces</td>\n",
       "      <td>0</td>\n",
       "      <td>0.000000</td>\n",
       "    </tr>\n",
       "    <tr>\n",
       "      <th>65</th>\n",
       "      <td>columns_int_numerical</td>\n",
       "      <td>TotRmsAbvGrd</td>\n",
       "      <td>0</td>\n",
       "      <td>0.000000</td>\n",
       "    </tr>\n",
       "    <tr>\n",
       "      <th>66</th>\n",
       "      <td>columns_int_numerical</td>\n",
       "      <td>BedroomAbvGr</td>\n",
       "      <td>0</td>\n",
       "      <td>0.000000</td>\n",
       "    </tr>\n",
       "    <tr>\n",
       "      <th>54</th>\n",
       "      <td>columns_int_numerical</td>\n",
       "      <td>GrLivArea</td>\n",
       "      <td>0</td>\n",
       "      <td>0.000000</td>\n",
       "    </tr>\n",
       "  </tbody>\n",
       "</table>\n",
       "</div>"
      ],
      "text/plain": [
       "                    dtype         column  null_n  null_percents\n",
       "38            columns_obj         PoolQC    2909       0.996574\n",
       "40            columns_obj    MiscFeature    2814       0.964029\n",
       "2             columns_obj          Alley    2721       0.932169\n",
       "39            columns_obj          Fence    2348       0.804385\n",
       "32            columns_obj    FireplaceQu    1420       0.486468\n",
       "43          columns_float    LotFrontage     486       0.166495\n",
       "36            columns_obj     GarageCond     159       0.054471\n",
       "34            columns_obj   GarageFinish     159       0.054471\n",
       "35            columns_obj     GarageQual     159       0.054471\n",
       "45          columns_float    GarageYrBlt     159       0.054471\n",
       "33            columns_obj     GarageType     157       0.053786\n",
       "23            columns_obj   BsmtExposure      82       0.028092\n",
       "22            columns_obj       BsmtCond      82       0.028092\n",
       "21            columns_obj       BsmtQual      81       0.027749\n",
       "25            columns_obj   BsmtFinType2      80       0.027407\n",
       "24            columns_obj   BsmtFinType1      79       0.027064\n",
       "17            columns_obj     MasVnrType      24       0.008222\n",
       "44          columns_float     MasVnrArea      23       0.007879\n",
       "0             columns_obj       MSZoning       4       0.001370\n",
       "5             columns_obj      Utilities       2       0.000685\n",
       "71      columns_num_range   BsmtFullBath       2       0.000685\n",
       "72      columns_num_range   BsmtHalfBath       2       0.000685\n",
       "31            columns_obj     Functional       2       0.000685\n",
       "49  columns_int_numerical      BsmtUnfSF       1       0.000343\n",
       "30            columns_obj    KitchenQual       1       0.000343\n",
       "50  columns_int_numerical    TotalBsmtSF       1       0.000343\n",
       "48  columns_int_numerical     BsmtFinSF2       1       0.000343\n",
       "47  columns_int_numerical     BsmtFinSF1       1       0.000343\n",
       "41            columns_obj       SaleType       1       0.000343\n",
       "63  columns_int_numerical     GarageCars       1       0.000343\n",
       "55  columns_int_numerical     GarageArea       1       0.000343\n",
       "29            columns_obj     Electrical       1       0.000343\n",
       "16            columns_obj    Exterior2nd       1       0.000343\n",
       "15            columns_obj    Exterior1st       1       0.000343\n",
       "76      columns_int_years      YearBuilt       0       0.000000\n",
       "56  columns_int_numerical     WoodDeckSF       0       0.000000\n",
       "57  columns_int_numerical    OpenPorchSF       0       0.000000\n",
       "77      columns_int_years   YearRemodAdd       0       0.000000\n",
       "58  columns_int_numerical  EnclosedPorch       0       0.000000\n",
       "59  columns_int_numerical      3SsnPorch       0       0.000000\n",
       "60  columns_int_numerical    ScreenPorch       0       0.000000\n",
       "61  columns_int_numerical        MiscVal       0       0.000000\n",
       "62  columns_int_numerical       PoolArea       0       0.000000\n",
       "73      columns_num_range       FullBath       0       0.000000\n",
       "75        columns_num_cat     MSSubClass       0       0.000000\n",
       "74      columns_num_range       HalfBath       0       0.000000\n",
       "64  columns_int_numerical     Fireplaces       0       0.000000\n",
       "65  columns_int_numerical   TotRmsAbvGrd       0       0.000000\n",
       "66  columns_int_numerical   BedroomAbvGr       0       0.000000\n",
       "54  columns_int_numerical      GrLivArea       0       0.000000"
      ]
     },
     "execution_count": 33,
     "metadata": {},
     "output_type": "execute_result"
    }
   ],
   "source": [
    "# Check for null\n",
    "column_list = []\n",
    "null_n_list = []\n",
    "null_percents_list = []\n",
    "dtype_list =[]\n",
    "\n",
    "N = dataset.shape[0]\n",
    "M = dataset.shape[1]\n",
    "print(N,M)\n",
    "for key in columns_dif_types_x.keys():\n",
    "    col_list = columns_dif_types_x[key]\n",
    "    #print(f'{key}\\n{col_list}\\n')\n",
    "    for column in col_list:\n",
    "        null_n      = dataset[column].isnull().sum()\n",
    "        \n",
    "        # null can absent in train set , but be in test set\n",
    "        # in this case voluntary assing '1' to null_n, to work out these columns\n",
    "     \n",
    "        null_percents = null_n/N\n",
    "        column_list.append(column)\n",
    "        null_n_list.append(null_n)\n",
    "        null_percents_list.append(null_percents)\n",
    "        dtype_list.append(key) \n",
    "        \n",
    "null_stat = pd.DataFrame({'dtype':dtype_list,\n",
    "                         'column':column_list,\n",
    "                         'null_n':null_n_list,\n",
    "                         'null_percents':null_percents_list})\n",
    "null_stat_sorted = null_stat.sort_values('null_percents',ascending = False)\n",
    "print(null_stat_sorted.shape)\n",
    "null_stat_sorted.head(50)"
   ]
  },
  {
   "cell_type": "code",
   "execution_count": 34,
   "metadata": {
    "execution": {
     "iopub.execute_input": "2022-05-18T16:43:03.057231Z",
     "iopub.status.busy": "2022-05-18T16:43:03.056495Z",
     "iopub.status.idle": "2022-05-18T16:43:03.074872Z",
     "shell.execute_reply": "2022-05-18T16:43:03.074018Z",
     "shell.execute_reply.started": "2022-05-18T16:43:03.057186Z"
    }
   },
   "outputs": [
    {
     "data": {
      "text/html": [
       "<div>\n",
       "<style scoped>\n",
       "    .dataframe tbody tr th:only-of-type {\n",
       "        vertical-align: middle;\n",
       "    }\n",
       "\n",
       "    .dataframe tbody tr th {\n",
       "        vertical-align: top;\n",
       "    }\n",
       "\n",
       "    .dataframe thead th {\n",
       "        text-align: right;\n",
       "    }\n",
       "</style>\n",
       "<table border=\"1\" class=\"dataframe\">\n",
       "  <thead>\n",
       "    <tr style=\"text-align: right;\">\n",
       "      <th></th>\n",
       "      <th>dtype</th>\n",
       "      <th>column</th>\n",
       "      <th>null_n</th>\n",
       "      <th>null_percents</th>\n",
       "    </tr>\n",
       "  </thead>\n",
       "  <tbody>\n",
       "    <tr>\n",
       "      <th>38</th>\n",
       "      <td>columns_obj</td>\n",
       "      <td>PoolQC</td>\n",
       "      <td>2909</td>\n",
       "      <td>0.996574</td>\n",
       "    </tr>\n",
       "    <tr>\n",
       "      <th>40</th>\n",
       "      <td>columns_obj</td>\n",
       "      <td>MiscFeature</td>\n",
       "      <td>2814</td>\n",
       "      <td>0.964029</td>\n",
       "    </tr>\n",
       "    <tr>\n",
       "      <th>2</th>\n",
       "      <td>columns_obj</td>\n",
       "      <td>Alley</td>\n",
       "      <td>2721</td>\n",
       "      <td>0.932169</td>\n",
       "    </tr>\n",
       "    <tr>\n",
       "      <th>39</th>\n",
       "      <td>columns_obj</td>\n",
       "      <td>Fence</td>\n",
       "      <td>2348</td>\n",
       "      <td>0.804385</td>\n",
       "    </tr>\n",
       "    <tr>\n",
       "      <th>32</th>\n",
       "      <td>columns_obj</td>\n",
       "      <td>FireplaceQu</td>\n",
       "      <td>1420</td>\n",
       "      <td>0.486468</td>\n",
       "    </tr>\n",
       "    <tr>\n",
       "      <th>43</th>\n",
       "      <td>columns_float</td>\n",
       "      <td>LotFrontage</td>\n",
       "      <td>486</td>\n",
       "      <td>0.166495</td>\n",
       "    </tr>\n",
       "    <tr>\n",
       "      <th>36</th>\n",
       "      <td>columns_obj</td>\n",
       "      <td>GarageCond</td>\n",
       "      <td>159</td>\n",
       "      <td>0.054471</td>\n",
       "    </tr>\n",
       "    <tr>\n",
       "      <th>34</th>\n",
       "      <td>columns_obj</td>\n",
       "      <td>GarageFinish</td>\n",
       "      <td>159</td>\n",
       "      <td>0.054471</td>\n",
       "    </tr>\n",
       "    <tr>\n",
       "      <th>35</th>\n",
       "      <td>columns_obj</td>\n",
       "      <td>GarageQual</td>\n",
       "      <td>159</td>\n",
       "      <td>0.054471</td>\n",
       "    </tr>\n",
       "    <tr>\n",
       "      <th>45</th>\n",
       "      <td>columns_float</td>\n",
       "      <td>GarageYrBlt</td>\n",
       "      <td>159</td>\n",
       "      <td>0.054471</td>\n",
       "    </tr>\n",
       "    <tr>\n",
       "      <th>33</th>\n",
       "      <td>columns_obj</td>\n",
       "      <td>GarageType</td>\n",
       "      <td>157</td>\n",
       "      <td>0.053786</td>\n",
       "    </tr>\n",
       "    <tr>\n",
       "      <th>23</th>\n",
       "      <td>columns_obj</td>\n",
       "      <td>BsmtExposure</td>\n",
       "      <td>82</td>\n",
       "      <td>0.028092</td>\n",
       "    </tr>\n",
       "    <tr>\n",
       "      <th>22</th>\n",
       "      <td>columns_obj</td>\n",
       "      <td>BsmtCond</td>\n",
       "      <td>82</td>\n",
       "      <td>0.028092</td>\n",
       "    </tr>\n",
       "    <tr>\n",
       "      <th>21</th>\n",
       "      <td>columns_obj</td>\n",
       "      <td>BsmtQual</td>\n",
       "      <td>81</td>\n",
       "      <td>0.027749</td>\n",
       "    </tr>\n",
       "    <tr>\n",
       "      <th>25</th>\n",
       "      <td>columns_obj</td>\n",
       "      <td>BsmtFinType2</td>\n",
       "      <td>80</td>\n",
       "      <td>0.027407</td>\n",
       "    </tr>\n",
       "    <tr>\n",
       "      <th>24</th>\n",
       "      <td>columns_obj</td>\n",
       "      <td>BsmtFinType1</td>\n",
       "      <td>79</td>\n",
       "      <td>0.027064</td>\n",
       "    </tr>\n",
       "    <tr>\n",
       "      <th>17</th>\n",
       "      <td>columns_obj</td>\n",
       "      <td>MasVnrType</td>\n",
       "      <td>24</td>\n",
       "      <td>0.008222</td>\n",
       "    </tr>\n",
       "    <tr>\n",
       "      <th>44</th>\n",
       "      <td>columns_float</td>\n",
       "      <td>MasVnrArea</td>\n",
       "      <td>23</td>\n",
       "      <td>0.007879</td>\n",
       "    </tr>\n",
       "    <tr>\n",
       "      <th>0</th>\n",
       "      <td>columns_obj</td>\n",
       "      <td>MSZoning</td>\n",
       "      <td>4</td>\n",
       "      <td>0.001370</td>\n",
       "    </tr>\n",
       "    <tr>\n",
       "      <th>5</th>\n",
       "      <td>columns_obj</td>\n",
       "      <td>Utilities</td>\n",
       "      <td>2</td>\n",
       "      <td>0.000685</td>\n",
       "    </tr>\n",
       "    <tr>\n",
       "      <th>71</th>\n",
       "      <td>columns_num_range</td>\n",
       "      <td>BsmtFullBath</td>\n",
       "      <td>2</td>\n",
       "      <td>0.000685</td>\n",
       "    </tr>\n",
       "    <tr>\n",
       "      <th>72</th>\n",
       "      <td>columns_num_range</td>\n",
       "      <td>BsmtHalfBath</td>\n",
       "      <td>2</td>\n",
       "      <td>0.000685</td>\n",
       "    </tr>\n",
       "    <tr>\n",
       "      <th>31</th>\n",
       "      <td>columns_obj</td>\n",
       "      <td>Functional</td>\n",
       "      <td>2</td>\n",
       "      <td>0.000685</td>\n",
       "    </tr>\n",
       "    <tr>\n",
       "      <th>49</th>\n",
       "      <td>columns_int_numerical</td>\n",
       "      <td>BsmtUnfSF</td>\n",
       "      <td>1</td>\n",
       "      <td>0.000343</td>\n",
       "    </tr>\n",
       "    <tr>\n",
       "      <th>30</th>\n",
       "      <td>columns_obj</td>\n",
       "      <td>KitchenQual</td>\n",
       "      <td>1</td>\n",
       "      <td>0.000343</td>\n",
       "    </tr>\n",
       "    <tr>\n",
       "      <th>50</th>\n",
       "      <td>columns_int_numerical</td>\n",
       "      <td>TotalBsmtSF</td>\n",
       "      <td>1</td>\n",
       "      <td>0.000343</td>\n",
       "    </tr>\n",
       "    <tr>\n",
       "      <th>48</th>\n",
       "      <td>columns_int_numerical</td>\n",
       "      <td>BsmtFinSF2</td>\n",
       "      <td>1</td>\n",
       "      <td>0.000343</td>\n",
       "    </tr>\n",
       "    <tr>\n",
       "      <th>47</th>\n",
       "      <td>columns_int_numerical</td>\n",
       "      <td>BsmtFinSF1</td>\n",
       "      <td>1</td>\n",
       "      <td>0.000343</td>\n",
       "    </tr>\n",
       "    <tr>\n",
       "      <th>41</th>\n",
       "      <td>columns_obj</td>\n",
       "      <td>SaleType</td>\n",
       "      <td>1</td>\n",
       "      <td>0.000343</td>\n",
       "    </tr>\n",
       "    <tr>\n",
       "      <th>63</th>\n",
       "      <td>columns_int_numerical</td>\n",
       "      <td>GarageCars</td>\n",
       "      <td>1</td>\n",
       "      <td>0.000343</td>\n",
       "    </tr>\n",
       "    <tr>\n",
       "      <th>55</th>\n",
       "      <td>columns_int_numerical</td>\n",
       "      <td>GarageArea</td>\n",
       "      <td>1</td>\n",
       "      <td>0.000343</td>\n",
       "    </tr>\n",
       "    <tr>\n",
       "      <th>29</th>\n",
       "      <td>columns_obj</td>\n",
       "      <td>Electrical</td>\n",
       "      <td>1</td>\n",
       "      <td>0.000343</td>\n",
       "    </tr>\n",
       "    <tr>\n",
       "      <th>16</th>\n",
       "      <td>columns_obj</td>\n",
       "      <td>Exterior2nd</td>\n",
       "      <td>1</td>\n",
       "      <td>0.000343</td>\n",
       "    </tr>\n",
       "    <tr>\n",
       "      <th>15</th>\n",
       "      <td>columns_obj</td>\n",
       "      <td>Exterior1st</td>\n",
       "      <td>1</td>\n",
       "      <td>0.000343</td>\n",
       "    </tr>\n",
       "  </tbody>\n",
       "</table>\n",
       "</div>"
      ],
      "text/plain": [
       "                    dtype        column  null_n  null_percents\n",
       "38            columns_obj        PoolQC    2909       0.996574\n",
       "40            columns_obj   MiscFeature    2814       0.964029\n",
       "2             columns_obj         Alley    2721       0.932169\n",
       "39            columns_obj         Fence    2348       0.804385\n",
       "32            columns_obj   FireplaceQu    1420       0.486468\n",
       "43          columns_float   LotFrontage     486       0.166495\n",
       "36            columns_obj    GarageCond     159       0.054471\n",
       "34            columns_obj  GarageFinish     159       0.054471\n",
       "35            columns_obj    GarageQual     159       0.054471\n",
       "45          columns_float   GarageYrBlt     159       0.054471\n",
       "33            columns_obj    GarageType     157       0.053786\n",
       "23            columns_obj  BsmtExposure      82       0.028092\n",
       "22            columns_obj      BsmtCond      82       0.028092\n",
       "21            columns_obj      BsmtQual      81       0.027749\n",
       "25            columns_obj  BsmtFinType2      80       0.027407\n",
       "24            columns_obj  BsmtFinType1      79       0.027064\n",
       "17            columns_obj    MasVnrType      24       0.008222\n",
       "44          columns_float    MasVnrArea      23       0.007879\n",
       "0             columns_obj      MSZoning       4       0.001370\n",
       "5             columns_obj     Utilities       2       0.000685\n",
       "71      columns_num_range  BsmtFullBath       2       0.000685\n",
       "72      columns_num_range  BsmtHalfBath       2       0.000685\n",
       "31            columns_obj    Functional       2       0.000685\n",
       "49  columns_int_numerical     BsmtUnfSF       1       0.000343\n",
       "30            columns_obj   KitchenQual       1       0.000343\n",
       "50  columns_int_numerical   TotalBsmtSF       1       0.000343\n",
       "48  columns_int_numerical    BsmtFinSF2       1       0.000343\n",
       "47  columns_int_numerical    BsmtFinSF1       1       0.000343\n",
       "41            columns_obj      SaleType       1       0.000343\n",
       "63  columns_int_numerical    GarageCars       1       0.000343\n",
       "55  columns_int_numerical    GarageArea       1       0.000343\n",
       "29            columns_obj    Electrical       1       0.000343\n",
       "16            columns_obj   Exterior2nd       1       0.000343\n",
       "15            columns_obj   Exterior1st       1       0.000343"
      ]
     },
     "execution_count": 34,
     "metadata": {},
     "output_type": "execute_result"
    }
   ],
   "source": [
    "nulls = null_stat_sorted.loc[null_stat_sorted['null_n']>0]\n",
    "nulls"
   ]
  },
  {
   "cell_type": "code",
   "execution_count": 35,
   "metadata": {
    "execution": {
     "iopub.execute_input": "2022-05-18T16:43:03.076555Z",
     "iopub.status.busy": "2022-05-18T16:43:03.076224Z",
     "iopub.status.idle": "2022-05-18T16:43:03.082043Z",
     "shell.execute_reply": "2022-05-18T16:43:03.081092Z",
     "shell.execute_reply.started": "2022-05-18T16:43:03.076511Z"
    }
   },
   "outputs": [],
   "source": [
    "# Replace null for cat (object - type)\n",
    "# 1. Many   null\n",
    "# 2. a few  null"
   ]
  },
  {
   "cell_type": "code",
   "execution_count": 36,
   "metadata": {
    "execution": {
     "iopub.execute_input": "2022-05-18T16:43:03.083829Z",
     "iopub.status.busy": "2022-05-18T16:43:03.083461Z",
     "iopub.status.idle": "2022-05-18T16:43:03.096412Z",
     "shell.execute_reply": "2022-05-18T16:43:03.095453Z",
     "shell.execute_reply.started": "2022-05-18T16:43:03.083785Z"
    }
   },
   "outputs": [],
   "source": [
    "# set threshold many, few\n",
    "threshold_null = 0.06\n",
    "# form list of variables\n",
    "nulls_obj      = nulls[nulls['dtype'] == 'columns_obj']\n",
    "nulls_obj_many = nulls_obj[nulls_obj['null_percents'] >= threshold_null ]\n",
    "nulls_obj_few  = nulls_obj[nulls_obj['null_percents'] <  threshold_null ]"
   ]
  },
  {
   "cell_type": "code",
   "execution_count": 37,
   "metadata": {
    "execution": {
     "iopub.execute_input": "2022-05-18T16:43:03.098554Z",
     "iopub.status.busy": "2022-05-18T16:43:03.098098Z",
     "iopub.status.idle": "2022-05-18T16:43:03.115452Z",
     "shell.execute_reply": "2022-05-18T16:43:03.114509Z",
     "shell.execute_reply.started": "2022-05-18T16:43:03.098389Z"
    }
   },
   "outputs": [
    {
     "data": {
      "text/plain": [
       "(          dtype       column  null_n  null_percents\n",
       " 38  columns_obj       PoolQC    2909       0.996574\n",
       " 40  columns_obj  MiscFeature    2814       0.964029\n",
       " 2   columns_obj        Alley    2721       0.932169\n",
       " 39  columns_obj        Fence    2348       0.804385\n",
       " 32  columns_obj  FireplaceQu    1420       0.486468,\n",
       "           dtype        column  null_n  null_percents\n",
       " 36  columns_obj    GarageCond     159       0.054471\n",
       " 34  columns_obj  GarageFinish     159       0.054471\n",
       " 35  columns_obj    GarageQual     159       0.054471\n",
       " 33  columns_obj    GarageType     157       0.053786\n",
       " 23  columns_obj  BsmtExposure      82       0.028092\n",
       " 22  columns_obj      BsmtCond      82       0.028092\n",
       " 21  columns_obj      BsmtQual      81       0.027749\n",
       " 25  columns_obj  BsmtFinType2      80       0.027407\n",
       " 24  columns_obj  BsmtFinType1      79       0.027064\n",
       " 17  columns_obj    MasVnrType      24       0.008222\n",
       " 0   columns_obj      MSZoning       4       0.001370\n",
       " 5   columns_obj     Utilities       2       0.000685\n",
       " 31  columns_obj    Functional       2       0.000685\n",
       " 30  columns_obj   KitchenQual       1       0.000343\n",
       " 41  columns_obj      SaleType       1       0.000343\n",
       " 29  columns_obj    Electrical       1       0.000343\n",
       " 16  columns_obj   Exterior2nd       1       0.000343\n",
       " 15  columns_obj   Exterior1st       1       0.000343)"
      ]
     },
     "execution_count": 37,
     "metadata": {},
     "output_type": "execute_result"
    }
   ],
   "source": [
    "nulls_obj_many,nulls_obj_few"
   ]
  },
  {
   "cell_type": "code",
   "execution_count": 38,
   "metadata": {
    "execution": {
     "iopub.execute_input": "2022-05-18T16:43:03.117212Z",
     "iopub.status.busy": "2022-05-18T16:43:03.116601Z",
     "iopub.status.idle": "2022-05-18T16:43:03.168799Z",
     "shell.execute_reply": "2022-05-18T16:43:03.167879Z",
     "shell.execute_reply.started": "2022-05-18T16:43:03.117176Z"
    }
   },
   "outputs": [
    {
     "name": "stdout",
     "output_type": "stream",
     "text": [
      "GarageCond TA\n",
      "GarageFinish Unf\n",
      "GarageQual TA\n",
      "GarageType Attchd\n",
      "BsmtExposure No\n",
      "BsmtCond TA\n",
      "BsmtQual TA\n",
      "BsmtFinType2 Unf\n",
      "BsmtFinType1 Unf\n",
      "MasVnrType None\n",
      "MSZoning RL\n",
      "Utilities AllPub\n",
      "Functional Typ\n",
      "KitchenQual TA\n",
      "SaleType WD\n",
      "Electrical SBrkr\n",
      "Exterior2nd VinylSd\n",
      "Exterior1st VinylSd\n"
     ]
    },
    {
     "data": {
      "text/plain": [
       "PoolQC          0\n",
       "MiscFeature     0\n",
       "Alley           0\n",
       "Fence           0\n",
       "FireplaceQu     0\n",
       "GarageCond      0\n",
       "GarageFinish    0\n",
       "GarageQual      0\n",
       "GarageType      0\n",
       "BsmtExposure    0\n",
       "BsmtCond        0\n",
       "BsmtQual        0\n",
       "BsmtFinType2    0\n",
       "BsmtFinType1    0\n",
       "MasVnrType      0\n",
       "MSZoning        0\n",
       "Utilities       0\n",
       "Functional      0\n",
       "KitchenQual     0\n",
       "SaleType        0\n",
       "Electrical      0\n",
       "Exterior2nd     0\n",
       "Exterior1st     0\n",
       "dtype: int64"
      ]
     },
     "execution_count": 38,
     "metadata": {},
     "output_type": "execute_result"
    }
   ],
   "source": [
    "# replace object's type variable\n",
    "\n",
    "# few: replace for most common\n",
    "for column in nulls_obj_few['column']:\n",
    "    most_frequent = train[column].mode()[0]\n",
    "    print(column,most_frequent)\n",
    "    dataset[column].fillna(most_frequent, inplace = True)\n",
    "        \n",
    "# many: replace for new label \"no_data\"\n",
    "for column in nulls_obj_many['column']:\n",
    "    dataset[column].fillna('no_data', inplace = True)\n",
    "\n",
    "dataset[nulls_obj['column']].isnull().sum()"
   ]
  },
  {
   "cell_type": "code",
   "execution_count": 39,
   "metadata": {
    "execution": {
     "iopub.execute_input": "2022-05-18T16:43:03.171132Z",
     "iopub.status.busy": "2022-05-18T16:43:03.170292Z",
     "iopub.status.idle": "2022-05-18T16:43:03.178045Z",
     "shell.execute_reply": "2022-05-18T16:43:03.177196Z",
     "shell.execute_reply.started": "2022-05-18T16:43:03.171058Z"
    }
   },
   "outputs": [
    {
     "data": {
      "text/plain": [
       "dict_keys(['columns_obj', 'columns_float', 'columns_int_numerical', 'columns_num_range', 'columns_num_cat', 'columns_int_years'])"
      ]
     },
     "execution_count": 39,
     "metadata": {},
     "output_type": "execute_result"
    }
   ],
   "source": [
    "columns_dif_types_x.keys()"
   ]
  },
  {
   "cell_type": "code",
   "execution_count": 40,
   "metadata": {
    "execution": {
     "iopub.execute_input": "2022-05-18T16:43:03.180271Z",
     "iopub.status.busy": "2022-05-18T16:43:03.179921Z",
     "iopub.status.idle": "2022-05-18T16:43:03.197414Z",
     "shell.execute_reply": "2022-05-18T16:43:03.196497Z",
     "shell.execute_reply.started": "2022-05-18T16:43:03.180228Z"
    }
   },
   "outputs": [
    {
     "name": "stdout",
     "output_type": "stream",
     "text": [
      "['MSSubClass'] Empty DataFrame\n",
      "Columns: [dtype, column, null_n, null_percents]\n",
      "Index: []\n",
      "['MoSold', 'OverallQual', 'OverallCond', 'BsmtFullBath', 'BsmtHalfBath', 'FullBath', 'HalfBath']                 dtype        column  null_n  null_percents\n",
      "71  columns_num_range  BsmtFullBath       2       0.000685\n",
      "72  columns_num_range  BsmtHalfBath       2       0.000685\n",
      "['YearBuilt', 'YearRemodAdd', 'YrSold'] Empty DataFrame\n",
      "Columns: [dtype, column, null_n, null_percents]\n",
      "Index: []\n"
     ]
    }
   ],
   "source": [
    "print(columns_dif_types_x['columns_num_cat'  ] ,nulls[nulls['dtype'] == 'columns_num_cat']  )\n",
    "print(columns_dif_types_x['columns_num_range'] ,nulls[nulls['dtype'] == 'columns_num_range'])\n",
    "print(columns_dif_types_x['columns_int_years'] ,nulls[nulls['dtype'] == 'columns_int_years'])"
   ]
  },
  {
   "cell_type": "code",
   "execution_count": 41,
   "metadata": {
    "execution": {
     "iopub.execute_input": "2022-05-18T16:43:03.199433Z",
     "iopub.status.busy": "2022-05-18T16:43:03.198457Z",
     "iopub.status.idle": "2022-05-18T16:43:03.214929Z",
     "shell.execute_reply": "2022-05-18T16:43:03.21396Z",
     "shell.execute_reply.started": "2022-05-18T16:43:03.199382Z"
    }
   },
   "outputs": [
    {
     "name": "stdout",
     "output_type": "stream",
     "text": [
      "['BsmtFullBath', 'BsmtHalfBath']\n",
      "BsmtFullBath 0\n",
      "BsmtHalfBath 0\n"
     ]
    },
    {
     "data": {
      "text/plain": [
       "BsmtFullBath    0\n",
       "BsmtHalfBath    0\n",
       "dtype: int64"
      ]
     },
     "execution_count": 41,
     "metadata": {},
     "output_type": "execute_result"
    }
   ],
   "source": [
    "# NaN replace for range var\n",
    "col_num_range_nan = [col for col in columns_num_range if col in list(nulls['column'])]\n",
    "print(col_num_range_nan)\n",
    "for column in col_num_range_nan:\n",
    "    most_frequent = train[column].mode()[0]\n",
    "    print(column,most_frequent)\n",
    "    dataset[column].fillna(most_frequent, inplace = True)\n",
    "#check\n",
    "dataset[col_num_range_nan].isnull().sum()"
   ]
  },
  {
   "cell_type": "code",
   "execution_count": 42,
   "metadata": {
    "execution": {
     "iopub.execute_input": "2022-05-18T16:43:03.216966Z",
     "iopub.status.busy": "2022-05-18T16:43:03.216623Z",
     "iopub.status.idle": "2022-05-18T16:43:03.241787Z",
     "shell.execute_reply": "2022-05-18T16:43:03.241135Z",
     "shell.execute_reply.started": "2022-05-18T16:43:03.216926Z"
    }
   },
   "outputs": [
    {
     "name": "stdout",
     "output_type": "stream",
     "text": [
      "['LotFrontage', 'MasVnrArea', 'GarageYrBlt', 'LotArea', 'BsmtFinSF1', 'BsmtFinSF2', 'BsmtUnfSF', 'TotalBsmtSF', '1stFlrSF', '2ndFlrSF', 'LowQualFinSF', 'GrLivArea', 'GarageArea', 'WoodDeckSF', 'OpenPorchSF', 'EnclosedPorch', '3SsnPorch', 'ScreenPorch', 'MiscVal', 'PoolArea', 'GarageCars', 'Fireplaces', 'TotRmsAbvGrd', 'BedroomAbvGr', 'KitchenAbvGr']\n",
      "nulls_float_int:\n",
      "                    dtype       column  null_n  null_percents\n",
      "43          columns_float  LotFrontage     486       0.166495\n",
      "45          columns_float  GarageYrBlt     159       0.054471\n",
      "44          columns_float   MasVnrArea      23       0.007879\n",
      "49  columns_int_numerical    BsmtUnfSF       1       0.000343\n",
      "50  columns_int_numerical  TotalBsmtSF       1       0.000343\n",
      "48  columns_int_numerical   BsmtFinSF2       1       0.000343\n",
      "47  columns_int_numerical   BsmtFinSF1       1       0.000343\n",
      "63  columns_int_numerical   GarageCars       1       0.000343\n",
      "55  columns_int_numerical   GarageArea       1       0.000343\n",
      "\n",
      "\n",
      "nulls_float_num_many\n",
      "<class 'pandas.core.frame.DataFrame'>\n",
      "            dtype       column  null_n  null_percents\n",
      "43  columns_float  LotFrontage     486       0.166495\n",
      "test\n",
      "type(item):<class 'str'>\n",
      "item.index:<built-in method index of str object at 0x000001DC79F111F0>\n",
      "item:LotFrontage\n",
      "LotFrontage 70.04995836802665\n",
      "GarageYrBlt 1978.5061638868744\n",
      "MasVnrArea 103.68526170798899\n",
      "BsmtUnfSF 567.2404109589041\n",
      "TotalBsmtSF 1057.4294520547944\n",
      "BsmtFinSF2 46.54931506849315\n",
      "BsmtFinSF1 443.6397260273973\n",
      "GarageCars 1.7671232876712328\n",
      "GarageArea 472.9801369863014\n"
     ]
    }
   ],
   "source": [
    "# NaN replace float's type variable\n",
    "columns_float_plus_num = columns_float + columns_int_numerical\n",
    "print(columns_float_plus_num)\n",
    "\n",
    "nulls_float_int  = nulls[(nulls['dtype'] == 'columns_float')|(nulls['dtype'] == 'columns_int_numerical')]\n",
    "print(f'nulls_float_int:\\n{nulls_float_int}\\n')\n",
    "\n",
    "# select columns with null more then theshold\n",
    "nulls_float_num_many = nulls_float_int[nulls_float_int['null_percents'] >= threshold_null ]\n",
    "print(f'\\nnulls_float_num_many\\n{type(nulls_float_num_many)}\\n{nulls_float_num_many}')\n",
    "\n",
    "# new column:  \n",
    "# test[new_column]  ==1 => data present,\n",
    "# test[new_column]  ==0 => data absent and were imputed  \n",
    "for item in nulls_float_num_many['column']:\n",
    "    print(f\"test\\ntype(item):{type(item)}\\nitem.index:{item.index}\\nitem:{item}\")\n",
    "    column = item\n",
    "    new_column = str(column+'_replace')\n",
    "    dataset[new_column] = np.where(dataset[column].isnull(),0,1)    \n",
    "\n",
    "# replace null for mean\n",
    "for column in nulls_float_int['column']:\n",
    "    var_mean = train[column].mean()\n",
    "    print(column,var_mean)\n",
    "    dataset[column].fillna(var_mean, inplace = True)\n"
   ]
  },
  {
   "cell_type": "code",
   "execution_count": 43,
   "metadata": {
    "execution": {
     "iopub.execute_input": "2022-05-18T16:43:03.243269Z",
     "iopub.status.busy": "2022-05-18T16:43:03.242721Z",
     "iopub.status.idle": "2022-05-18T16:43:03.284454Z",
     "shell.execute_reply": "2022-05-18T16:43:03.283504Z",
     "shell.execute_reply.started": "2022-05-18T16:43:03.243236Z"
    }
   },
   "outputs": [
    {
     "data": {
      "text/plain": [
       "(Empty DataFrame\n",
       " Columns: [MSSubClass, MSZoning, LotFrontage, LotArea, Street, Alley, LotShape, LandContour, Utilities, LotConfig, LandSlope, Neighborhood, Condition1, Condition2, BldgType, HouseStyle, OverallQual, OverallCond, YearBuilt, YearRemodAdd, RoofStyle, RoofMatl, Exterior1st, Exterior2nd, MasVnrType, MasVnrArea, ExterQual, ExterCond, Foundation, BsmtQual, BsmtCond, BsmtExposure, BsmtFinType1, BsmtFinSF1, BsmtFinType2, BsmtFinSF2, BsmtUnfSF, TotalBsmtSF, Heating, HeatingQC, CentralAir, Electrical, 1stFlrSF, 2ndFlrSF, LowQualFinSF, GrLivArea, BsmtFullBath, BsmtHalfBath, FullBath, HalfBath, BedroomAbvGr, KitchenAbvGr, KitchenQual, TotRmsAbvGrd, Functional, Fireplaces, FireplaceQu, GarageType, GarageYrBlt, GarageFinish, GarageCars, GarageArea, GarageQual, GarageCond, PavedDrive, WoodDeckSF, OpenPorchSF, EnclosedPorch, 3SsnPorch, ScreenPorch, PoolArea, PoolQC, Fence, MiscFeature, MiscVal, MoSold, YrSold, SaleType, SaleCondition, LotFrontage_replace]\n",
       " Index: []\n",
       " \n",
       " [0 rows x 80 columns],\n",
       " 0)"
      ]
     },
     "execution_count": 43,
     "metadata": {},
     "output_type": "execute_result"
    }
   ],
   "source": [
    "# check if nun is missing\n",
    "dataset[dataset.isnull().any(axis=1)],dataset.isnull().sum().sum()\n",
    "# no nun"
   ]
  },
  {
   "cell_type": "markdown",
   "metadata": {},
   "source": [
    "check for duplicated lines"
   ]
  },
  {
   "cell_type": "code",
   "execution_count": 44,
   "metadata": {
    "execution": {
     "iopub.execute_input": "2022-05-18T16:43:03.285956Z",
     "iopub.status.busy": "2022-05-18T16:43:03.285685Z",
     "iopub.status.idle": "2022-05-18T16:43:03.433919Z",
     "shell.execute_reply": "2022-05-18T16:43:03.433046Z",
     "shell.execute_reply.started": "2022-05-18T16:43:03.285925Z"
    }
   },
   "outputs": [
    {
     "name": "stdout",
     "output_type": "stream",
     "text": [
      "2       MSSubClass MSZoning  LotFrontage  LotArea Street    Alley LotShape  \\\n",
      "Id                                                                         \n",
      "194          160       RM         24.0     2522   Pave  no_data      Reg   \n",
      "830          160       FV         24.0     2544   Pave     Pave      Reg   \n",
      "2714         160       FV         24.0     2544   Pave     Pave      Reg   \n",
      "2866         160       RM         24.0     2522   Pave  no_data      Reg   \n",
      "\n",
      "     LandContour Utilities LotConfig  ... PoolArea   PoolQC    Fence  \\\n",
      "Id                                    ...                              \n",
      "194          Lvl    AllPub    Inside  ...        0  no_data  no_data   \n",
      "830          Lvl    AllPub    Inside  ...        0  no_data  no_data   \n",
      "2714         Lvl    AllPub    Inside  ...        0  no_data  no_data   \n",
      "2866         Lvl    AllPub    Inside  ...        0  no_data  no_data   \n",
      "\n",
      "     MiscFeature MiscVal MoSold  YrSold  SaleType  SaleCondition  \\\n",
      "Id                                                                 \n",
      "194      no_data       0      5    2006        WD         Normal   \n",
      "830      no_data       0      7    2006        WD         Normal   \n",
      "2714     no_data       0      7    2006        WD         Normal   \n",
      "2866     no_data       0      5    2006        WD         Normal   \n",
      "\n",
      "      LotFrontage_replace  \n",
      "Id                         \n",
      "194                     1  \n",
      "830                     1  \n",
      "2714                    1  \n",
      "2866                    1  \n",
      "\n",
      "[4 rows x 80 columns]\n",
      "Int64Index([194, 830, 2714, 2866], dtype='int64', name='Id')\n",
      "1458 1459 2919\n"
     ]
    },
    {
     "data": {
      "text/plain": [
       "0"
      ]
     },
     "execution_count": 44,
     "metadata": {},
     "output_type": "execute_result"
    }
   ],
   "source": [
    "# check for duplicated lines\n",
    "print(dataset.duplicated().sum(),dataset[dataset.duplicated(keep = False) ==True])\n",
    "ind_range_null = dataset[dataset.duplicated(keep = False) ==True].index\n",
    "print(ind_range_null)\n",
    "id_train = [i for i in id_train if i not in ind_range_null]\n",
    "id_y     = [i for i in id_y     if i not in ind_range_null]\n",
    "#id_test  = [i for i in id_test  if i not in ind_range_null ]\n",
    "print(len(id_train),len(id_test),len(list(dataset.index)))\n",
    "dataset.drop_duplicates(keep = 'last',inplace = True)\n",
    "y = y[id_y]\n",
    "# to keep test size, to submit prediction\n",
    "dataset.duplicated().sum()"
   ]
  },
  {
   "cell_type": "code",
   "execution_count": 45,
   "metadata": {
    "execution": {
     "iopub.execute_input": "2022-05-18T16:43:03.435778Z",
     "iopub.status.busy": "2022-05-18T16:43:03.435325Z",
     "iopub.status.idle": "2022-05-18T16:43:03.44294Z",
     "shell.execute_reply": "2022-05-18T16:43:03.442004Z",
     "shell.execute_reply.started": "2022-05-18T16:43:03.435733Z"
    }
   },
   "outputs": [
    {
     "name": "stdout",
     "output_type": "stream",
     "text": [
      "20     1079\n",
      "60      575\n",
      "50      287\n",
      "120     182\n",
      "30      139\n",
      "70      128\n",
      "160     126\n",
      "80      118\n",
      "90      109\n",
      "190      61\n",
      "85       48\n",
      "75       23\n",
      "45       18\n",
      "180      17\n",
      "40        6\n",
      "150       1\n",
      "Name: MSSubClass, dtype: int64\n"
     ]
    }
   ],
   "source": [
    "for el in columns_num_cat:\n",
    "    print(dataset[el].value_counts())"
   ]
  },
  {
   "cell_type": "markdown",
   "metadata": {
    "execution": {
     "iopub.execute_input": "2022-04-27T13:11:52.960064Z",
     "iopub.status.busy": "2022-04-27T13:11:52.959864Z",
     "iopub.status.idle": "2022-04-27T13:11:52.96385Z",
     "shell.execute_reply": "2022-04-27T13:11:52.963209Z",
     "shell.execute_reply.started": "2022-04-27T13:11:52.960039Z"
    }
   },
   "source": [
    "Check for rare and quasi-constant var"
   ]
  },
  {
   "cell_type": "code",
   "execution_count": 46,
   "metadata": {
    "execution": {
     "iopub.execute_input": "2022-05-18T16:43:03.444661Z",
     "iopub.status.busy": "2022-05-18T16:43:03.444407Z",
     "iopub.status.idle": "2022-05-18T16:43:03.458026Z",
     "shell.execute_reply": "2022-05-18T16:43:03.457215Z",
     "shell.execute_reply.started": "2022-05-18T16:43:03.444621Z"
    }
   },
   "outputs": [
    {
     "data": {
      "text/plain": [
       "Int64Index([   1,    2,    3,    4,    5,    6,    7,    8,    9,   10,\n",
       "            ...\n",
       "            2910, 2911, 2912, 2913, 2914, 2915, 2916, 2917, 2918, 2919],\n",
       "           dtype='int64', name='Id', length=2917)"
      ]
     },
     "execution_count": 46,
     "metadata": {},
     "output_type": "execute_result"
    }
   ],
   "source": [
    "dataset.index "
   ]
  },
  {
   "cell_type": "code",
   "execution_count": 47,
   "metadata": {
    "execution": {
     "iopub.execute_input": "2022-05-18T16:43:03.459684Z",
     "iopub.status.busy": "2022-05-18T16:43:03.459423Z",
     "iopub.status.idle": "2022-05-18T16:43:03.472555Z",
     "shell.execute_reply": "2022-05-18T16:43:03.471653Z",
     "shell.execute_reply.started": "2022-05-18T16:43:03.459655Z"
    }
   },
   "outputs": [],
   "source": [
    "# return to train/test\n",
    "train         = dataset.loc[id_train]\n",
    "test          = dataset.loc[id_test ]"
   ]
  },
  {
   "cell_type": "code",
   "execution_count": 48,
   "metadata": {
    "execution": {
     "iopub.execute_input": "2022-05-18T16:43:03.473999Z",
     "iopub.status.busy": "2022-05-18T16:43:03.473635Z",
     "iopub.status.idle": "2022-05-18T16:43:03.484627Z",
     "shell.execute_reply": "2022-05-18T16:43:03.483689Z",
     "shell.execute_reply.started": "2022-05-18T16:43:03.473963Z"
    }
   },
   "outputs": [],
   "source": [
    "#train.columns"
   ]
  },
  {
   "cell_type": "code",
   "execution_count": 49,
   "metadata": {
    "execution": {
     "iopub.execute_input": "2022-05-18T16:43:03.486157Z",
     "iopub.status.busy": "2022-05-18T16:43:03.485691Z",
     "iopub.status.idle": "2022-05-18T16:43:03.496623Z",
     "shell.execute_reply": "2022-05-18T16:43:03.495672Z",
     "shell.execute_reply.started": "2022-05-18T16:43:03.486093Z"
    }
   },
   "outputs": [],
   "source": [
    "def in_not_in(set_in,set_not_in,columns_for_check):\n",
    "    # determine wich labels is not in all sets \n",
    "    dic = {}\n",
    "    for col in columns_for_check:\n",
    "        uniq_in          = list(set_in[col]    .unique())\n",
    "        uniq_not_in_1    = list(set_not_in[col].unique())\n",
    "       \n",
    "        in_not_in_list = [el for el in uniq_in if el not in uniq_not_in_1]\n",
    "        if len(in_not_in_list)>0: dic[col] =in_not_in_list\n",
    "    return dic        "
   ]
  },
  {
   "cell_type": "code",
   "execution_count": 50,
   "metadata": {
    "execution": {
     "iopub.execute_input": "2022-05-18T16:43:03.498023Z",
     "iopub.status.busy": "2022-05-18T16:43:03.497789Z",
     "iopub.status.idle": "2022-05-18T16:43:03.798266Z",
     "shell.execute_reply": "2022-05-18T16:43:03.797286Z",
     "shell.execute_reply.started": "2022-05-18T16:43:03.497995Z"
    }
   },
   "outputs": [
    {
     "name": "stdout",
     "output_type": "stream",
     "text": [
      "list_cat_columns_to_delete ['Street', 'Utilities', 'Condition2', 'RoofMatl', 'Heating', 'GarageQual', 'GarageCond', 'PoolQC', 'MiscFeature']\n"
     ]
    }
   ],
   "source": [
    "# Categirial variable obj\n",
    "# determine wich labels is not in all sets\n",
    "# form list od rare var to delete\n",
    "threshold_max_one_lebel_share = 0.95\n",
    "threshold_rare_lebel_share    = 0.05\n",
    "N = train.shape[0]\n",
    "list_cat_columns_to_delete=[]\n",
    "\n",
    "for item in columns_obj:\n",
    "    value_s_train       = train[item]  .value_counts()\n",
    "    index_train         = value_s_train.index.to_list()\n",
    "    value_count_train   = value_s_train.to_list()\n",
    "    value_percent_train = [el/N for el in value_count_train]\n",
    "    # to avoid passtrough rare unique label only in test\n",
    "    value_rare_train    = value_s_train.index.to_list()\n",
    "    value_count_df = pd.DataFrame({'value_count'  :value_s_train,\n",
    "                                   'value_percent':value_percent_train},\n",
    "                                   index = value_rare_train)\n",
    "    # check if in fact it is only one lebel\n",
    "    max_share = value_count_df['value_percent'].max()\n",
    "    if max_share > threshold_max_one_lebel_share: \n",
    "        list_cat_columns_to_delete.append(item)\n",
    "    else:\n",
    "    # replace rare lebels for new lebel -'rare'\n",
    "        for lebel in value_rare_train:\n",
    "            if value_count_df.loc[lebel,'value_percent'] <= threshold_rare_lebel_share:\n",
    "                train.loc[train[item] == lebel,item] = 'rare'\n",
    "                test .loc[test [item] == lebel,item] = 'rare'\n",
    "                                \n",
    "# to avoid passtrough rare unique label only in test and vise versa\n",
    "only_in_train          = in_not_in(train,test ,columns_obj)\n",
    "only_in_test           = in_not_in(test ,train,columns_obj)\n",
    "\n",
    "for item in only_in_train.keys():\n",
    "    train_labels         = only_in_train[item]\n",
    "    for el in train_labels: train.loc[train[item] == el,item] = 'rare'\n",
    "for item in only_in_test.keys():    \n",
    "    test_labels          = only_in_test [item]\n",
    "    for el in test_labels:  test.loc[test [item] == el,item] = 'rare'\n",
    "\n",
    "    \n",
    "print('list_cat_columns_to_delete',list_cat_columns_to_delete)"
   ]
  },
  {
   "cell_type": "code",
   "execution_count": 51,
   "metadata": {
    "execution": {
     "iopub.execute_input": "2022-05-18T16:43:03.805851Z",
     "iopub.status.busy": "2022-05-18T16:43:03.805528Z",
     "iopub.status.idle": "2022-05-18T16:43:03.813327Z",
     "shell.execute_reply": "2022-05-18T16:43:03.812134Z",
     "shell.execute_reply.started": "2022-05-18T16:43:03.805819Z"
    }
   },
   "outputs": [
    {
     "data": {
      "text/plain": [
       "['MSSubClass']"
      ]
     },
     "execution_count": 51,
     "metadata": {},
     "output_type": "execute_result"
    }
   ],
   "source": [
    "columns_num_cat"
   ]
  },
  {
   "cell_type": "code",
   "execution_count": 52,
   "metadata": {
    "execution": {
     "iopub.execute_input": "2022-05-18T16:43:03.81527Z",
     "iopub.status.busy": "2022-05-18T16:43:03.814925Z",
     "iopub.status.idle": "2022-05-18T16:43:03.827505Z",
     "shell.execute_reply": "2022-05-18T16:43:03.826524Z",
     "shell.execute_reply.started": "2022-05-18T16:43:03.815224Z"
    }
   },
   "outputs": [
    {
     "name": "stdout",
     "output_type": "stream",
     "text": [
      "20     536\n",
      "60     299\n",
      "50     144\n",
      "120     87\n",
      "30      69\n",
      "160     61\n",
      "70      60\n",
      "80      58\n",
      "90      52\n",
      "190     30\n",
      "85      20\n",
      "75      16\n",
      "45      12\n",
      "180     10\n",
      "40       4\n",
      "Name: MSSubClass, dtype: int64\n"
     ]
    }
   ],
   "source": [
    "for el in columns_num_cat:\n",
    "    print(train[el].value_counts())"
   ]
  },
  {
   "cell_type": "code",
   "execution_count": 53,
   "metadata": {
    "execution": {
     "iopub.execute_input": "2022-05-18T16:43:03.8292Z",
     "iopub.status.busy": "2022-05-18T16:43:03.828936Z",
     "iopub.status.idle": "2022-05-18T16:43:03.861602Z",
     "shell.execute_reply": "2022-05-18T16:43:03.86043Z",
     "shell.execute_reply.started": "2022-05-18T16:43:03.82917Z"
    }
   },
   "outputs": [
    {
     "name": "stdout",
     "output_type": "stream",
     "text": [
      "[] ['Street', 'Utilities', 'Condition2', 'RoofMatl', 'Heating', 'GarageQual', 'GarageCond', 'PoolQC', 'MiscFeature']\n"
     ]
    }
   ],
   "source": [
    "# Categirial rare variable (num) replace for \"0\"\n",
    "threshold_max_one_lebel_share     = 0.95\n",
    "threshold_num_rare_lebel_share    = 0.03\n",
    "N = train.shape[0]\n",
    "list_cat_int_columns_to_delete=[]\n",
    "\n",
    "for item in columns_num_cat:\n",
    "    \n",
    "    value_s_train       = train[item].value_counts()\n",
    "    index_train         = value_s_train.index.to_list()\n",
    "    value_count_train   = value_s_train.to_list()\n",
    "    value_percent_train = [el/N for el in value_count_train]\n",
    "    # to avoid passtrough rare unique label only in test\n",
    "    value_rare_train    = value_s_train.index.to_list()\n",
    "    value_count_df = pd.DataFrame({'value_count'  :value_s_train,\n",
    "                                   'value_percent':value_percent_train},index = value_rare_train)\n",
    "    # check if in fact it is only one lebel\n",
    "    max_share = value_count_df['value_percent'].max()\n",
    "    if max_share > threshold_max_one_lebel_share: \n",
    "        list_cat_int_columns_to_delete.append(item)\n",
    "    else:\n",
    "    # replace rare lebels for new lebel -'0\n",
    "        for lebel in value_rare_train:\n",
    "            if value_count_df.loc[lebel,'value_percent'] <= threshold_rare_lebel_share:\n",
    "                train.loc[train[item] == lebel,item] = 0\n",
    "                test .loc[test [item] == lebel,item] = 0\n",
    "                \n",
    "# to avoid passtrough rare unique label only in test and vise versa\n",
    "only_in_train          = in_not_in(train,test ,columns_num_cat)\n",
    "only_in_test           = in_not_in(test ,train,columns_num_cat)\n",
    "\n",
    "for item in only_in_train.keys():\n",
    "    train_labels         = only_in_train[item]\n",
    "    for el in train_labels: train.loc[train[item] == el,item] = 0\n",
    "for item in only_in_test.keys():    \n",
    "    test_labels          = only_in_test [item]\n",
    "    for el in test_labels:  test.loc[test [item] == el,item] = 0\n",
    "\n",
    "train[columns_num_cat].astype('object')\n",
    "test [columns_num_cat].astype('object')\n",
    "print(list_cat_int_columns_to_delete,list_cat_columns_to_delete)"
   ]
  },
  {
   "cell_type": "code",
   "execution_count": 54,
   "metadata": {},
   "outputs": [
    {
     "data": {
      "text/plain": [
       "((1458, 80), (1459, 80), (2917, 80))"
      ]
     },
     "execution_count": 54,
     "metadata": {},
     "output_type": "execute_result"
    }
   ],
   "source": [
    "# put train, test together back to dataset\n",
    "dataset = pd.concat([train,test],axis =0)\n",
    "train.shape,test.shape,dataset.shape"
   ]
  },
  {
   "cell_type": "code",
   "execution_count": 55,
   "metadata": {
    "execution": {
     "iopub.execute_input": "2022-05-18T16:43:03.899032Z",
     "iopub.status.busy": "2022-05-18T16:43:03.898806Z",
     "iopub.status.idle": "2022-05-18T16:43:03.90827Z",
     "shell.execute_reply": "2022-05-18T16:43:03.907296Z",
     "shell.execute_reply.started": "2022-05-18T16:43:03.899005Z"
    }
   },
   "outputs": [
    {
     "data": {
      "text/plain": [
       "Index(['MSSubClass', 'MSZoning', 'LotFrontage', 'LotArea', 'Street', 'Alley',\n",
       "       'LotShape', 'LandContour', 'Utilities', 'LotConfig', 'LandSlope',\n",
       "       'Neighborhood', 'Condition1', 'Condition2', 'BldgType', 'HouseStyle',\n",
       "       'OverallQual', 'OverallCond', 'YearBuilt', 'YearRemodAdd', 'RoofStyle',\n",
       "       'RoofMatl', 'Exterior1st', 'Exterior2nd', 'MasVnrType', 'MasVnrArea',\n",
       "       'ExterQual', 'ExterCond', 'Foundation', 'BsmtQual', 'BsmtCond',\n",
       "       'BsmtExposure', 'BsmtFinType1', 'BsmtFinSF1', 'BsmtFinType2',\n",
       "       'BsmtFinSF2', 'BsmtUnfSF', 'TotalBsmtSF', 'Heating', 'HeatingQC',\n",
       "       'CentralAir', 'Electrical', '1stFlrSF', '2ndFlrSF', 'LowQualFinSF',\n",
       "       'GrLivArea', 'BsmtFullBath', 'BsmtHalfBath', 'FullBath', 'HalfBath',\n",
       "       'BedroomAbvGr', 'KitchenAbvGr', 'KitchenQual', 'TotRmsAbvGrd',\n",
       "       'Functional', 'Fireplaces', 'FireplaceQu', 'GarageType', 'GarageYrBlt',\n",
       "       'GarageFinish', 'GarageCars', 'GarageArea', 'GarageQual', 'GarageCond',\n",
       "       'PavedDrive', 'WoodDeckSF', 'OpenPorchSF', 'EnclosedPorch', '3SsnPorch',\n",
       "       'ScreenPorch', 'PoolArea', 'PoolQC', 'Fence', 'MiscFeature', 'MiscVal',\n",
       "       'MoSold', 'YrSold', 'SaleType', 'SaleCondition', 'LotFrontage_replace'],\n",
       "      dtype='object')"
      ]
     },
     "execution_count": 55,
     "metadata": {},
     "output_type": "execute_result"
    }
   ],
   "source": [
    "train.columns"
   ]
  },
  {
   "cell_type": "code",
   "execution_count": 56,
   "metadata": {
    "execution": {
     "iopub.execute_input": "2022-05-18T16:43:03.910157Z",
     "iopub.status.busy": "2022-05-18T16:43:03.909244Z",
     "iopub.status.idle": "2022-05-18T16:43:03.930385Z",
     "shell.execute_reply": "2022-05-18T16:43:03.929705Z",
     "shell.execute_reply.started": "2022-05-18T16:43:03.910101Z"
    }
   },
   "outputs": [
    {
     "data": {
      "text/plain": [
       "Id\n",
       "1       False\n",
       "2       False\n",
       "3       False\n",
       "4       False\n",
       "5       False\n",
       "        ...  \n",
       "2915    False\n",
       "2916    False\n",
       "2917    False\n",
       "2918    False\n",
       "2919    False\n",
       "Name: OverallCond, Length: 2917, dtype: bool"
      ]
     },
     "execution_count": 56,
     "metadata": {},
     "output_type": "execute_result"
    }
   ],
   "source": [
    "# check replacement in var 'OverallCond'\n",
    "dataset[columns_num_range].dtypes\n",
    "dataset.loc[dataset['OverallCond'].astype('int64') == 2,'OverallCond'] \n",
    "dataset['OverallCond'].astype('int64') == 2"
   ]
  },
  {
   "cell_type": "code",
   "execution_count": 57,
   "metadata": {
    "execution": {
     "iopub.execute_input": "2022-05-18T16:43:03.931954Z",
     "iopub.status.busy": "2022-05-18T16:43:03.931439Z",
     "iopub.status.idle": "2022-05-18T16:43:03.956896Z",
     "shell.execute_reply": "2022-05-18T16:43:03.955972Z",
     "shell.execute_reply.started": "2022-05-18T16:43:03.931914Z"
    }
   },
   "outputs": [
    {
     "name": "stdout",
     "output_type": "stream",
     "text": [
      "['MoSold', 'OverallQual', 'OverallCond', 'BsmtFullBath', 'BsmtHalfBath', 'FullBath', 'HalfBath']\n",
      "6     503\n",
      "7     445\n",
      "5     393\n",
      "4     279\n",
      "8     233\n",
      "3     232\n",
      "10    173\n",
      "9     158\n",
      "11    142\n",
      "2     133\n",
      "1     122\n",
      "12    104\n",
      "Name: MoSold, dtype: int64\n",
      "5     825\n",
      "6     731\n",
      "7     598\n",
      "8     342\n",
      "4     226\n",
      "9     107\n",
      "3      40\n",
      "10     31\n",
      "2      13\n",
      "1       4\n",
      "Name: OverallQual, dtype: int64\n",
      "5    1643\n",
      "6     531\n",
      "7     390\n",
      "8     144\n",
      "4     101\n",
      "3      50\n",
      "9      41\n",
      "2      10\n",
      "1       7\n",
      "Name: OverallCond, dtype: int64\n",
      "0.0    1705\n",
      "1.0    1172\n",
      "2.0      38\n",
      "3.0       2\n",
      "Name: BsmtFullBath, dtype: int64\n",
      "0.0    2742\n",
      "1.0     171\n",
      "2.0       4\n",
      "Name: BsmtHalfBath, dtype: int64\n",
      "2    1528\n",
      "1    1309\n",
      "3      64\n",
      "0      12\n",
      "4       4\n",
      "Name: FullBath, dtype: int64\n",
      "0    1833\n",
      "1    1059\n",
      "2      25\n",
      "Name: HalfBath, dtype: int64\n",
      "MoSold 12\n",
      "OverallQual 10\n",
      "OverallCond 9\n"
     ]
    }
   ],
   "source": [
    "# rare lebels in range - var\n",
    "threshold_rare_range_var_min = 4\n",
    "threshold_rare_range_var_max = 8\n",
    "print(columns_num_range)\n",
    "for el in columns_num_range:\n",
    "    print(dataset[el].value_counts())\n",
    "for col in columns_num_range:\n",
    "    if dataset[col].nunique()>7:\n",
    "        print(col,dataset[col].nunique())\n",
    "        dataset.loc[dataset[col] <= threshold_rare_range_var_min,col] = threshold_rare_range_var_min     \n",
    "        dataset.loc[dataset[col] >= threshold_rare_range_var_max,col] = threshold_rare_range_var_max\n"
   ]
  },
  {
   "cell_type": "code",
   "execution_count": 58,
   "metadata": {
    "execution": {
     "iopub.execute_input": "2022-05-18T16:43:03.959313Z",
     "iopub.status.busy": "2022-05-18T16:43:03.958289Z",
     "iopub.status.idle": "2022-05-18T16:43:03.97268Z",
     "shell.execute_reply": "2022-05-18T16:43:03.971653Z",
     "shell.execute_reply.started": "2022-05-18T16:43:03.959259Z"
    }
   },
   "outputs": [],
   "source": [
    "# put rare labels together\n",
    "dataset.loc[dataset['BsmtFullBath']==2,'BsmtFullBath'] = 1\n",
    "dataset.loc[dataset['BsmtFullBath']==3,'BsmtFullBath'] = 1\n",
    "\n",
    "dataset.loc[dataset['BsmtHalfBath']==2,'BsmtHalfBath'] = 1\n",
    "\n",
    "dataset.loc[dataset['FullBath']==0,'FullBath'] = 1\n",
    "dataset.loc[dataset['FullBath']==3,'FullBath'] = 2\n",
    "dataset.loc[dataset['FullBath']==4,'FullBath'] = 2\n",
    "\n",
    "dataset.loc[dataset['HalfBath']==2,'HalfBath'] = 1"
   ]
  },
  {
   "cell_type": "code",
   "execution_count": 59,
   "metadata": {
    "execution": {
     "iopub.execute_input": "2022-05-18T16:43:03.974903Z",
     "iopub.status.busy": "2022-05-18T16:43:03.974444Z",
     "iopub.status.idle": "2022-05-18T16:43:03.988925Z",
     "shell.execute_reply": "2022-05-18T16:43:03.988246Z",
     "shell.execute_reply.started": "2022-05-18T16:43:03.974859Z"
    }
   },
   "outputs": [
    {
     "name": "stdout",
     "output_type": "stream",
     "text": [
      "0.0    1705\n",
      "1.0    1212\n",
      "Name: BsmtFullBath, dtype: int64\n",
      "0.0    2742\n",
      "1.0     175\n",
      "Name: BsmtHalfBath, dtype: int64\n",
      "2    1596\n",
      "1    1321\n",
      "Name: FullBath, dtype: int64\n",
      "0    1833\n",
      "1    1084\n",
      "Name: HalfBath, dtype: int64\n"
     ]
    }
   ],
   "source": [
    "for el in ['BsmtFullBath','BsmtHalfBath','FullBath','HalfBath']:\n",
    "    print(dataset[el].value_counts())"
   ]
  },
  {
   "cell_type": "code",
   "execution_count": 60,
   "metadata": {
    "execution": {
     "iopub.execute_input": "2022-05-18T16:43:03.990647Z",
     "iopub.status.busy": "2022-05-18T16:43:03.990357Z",
     "iopub.status.idle": "2022-05-18T16:43:03.998017Z",
     "shell.execute_reply": "2022-05-18T16:43:03.996892Z",
     "shell.execute_reply.started": "2022-05-18T16:43:03.990602Z"
    }
   },
   "outputs": [],
   "source": [
    "# put ['BsmtFullBath','BsmtHalfBath','FullBath','HalfBath'] from range to cat\n",
    "correct_type = ['BsmtFullBath','BsmtHalfBath','FullBath','HalfBath']\n",
    "columns_num_range = [col for col in columns_num_range if col not in correct_type]\n",
    "columns_num_cat = columns_num_cat +correct_type"
   ]
  },
  {
   "cell_type": "code",
   "execution_count": 61,
   "metadata": {
    "execution": {
     "iopub.execute_input": "2022-05-18T16:43:03.999724Z",
     "iopub.status.busy": "2022-05-18T16:43:03.999063Z",
     "iopub.status.idle": "2022-05-18T16:43:04.056882Z",
     "shell.execute_reply": "2022-05-18T16:43:04.055861Z",
     "shell.execute_reply.started": "2022-05-18T16:43:03.999678Z"
    }
   },
   "outputs": [
    {
     "data": {
      "text/plain": [
       "['LowQualFinSF', '3SsnPorch', 'MiscVal', 'PoolArea', 'KitchenAbvGr']"
      ]
     },
     "execution_count": 61,
     "metadata": {},
     "output_type": "execute_result"
    }
   ],
   "source": [
    "# quazi constant num int and float var\n",
    "threshold_max_one_lebel_share = 0.95\n",
    "\n",
    "\n",
    "N = train.shape[0]\n",
    "list_num_columns_to_delete=[]\n",
    "columns_float_int_num = columns_float + columns_int_numerical\n",
    "for item in columns_float_int_num:\n",
    "    value_s        = train[item].value_counts()\n",
    "    value_count    = value_s.to_list()\n",
    "    value_percent  = [item/N for item in value_count]\n",
    "    value          = value_s.index.to_list()\n",
    "    value_count_df = pd.DataFrame({'value_count'  :value_count,\n",
    "                                   'value_percent':value_percent}, index = value)\n",
    "    #print(f'\\n{item}\\n{value_count_df}')\n",
    "    \n",
    "    # check if in fact it is only one lebel\n",
    "    max_share = value_count_df['value_percent'].max()\n",
    "    if max_share > threshold_max_one_lebel_share: \n",
    "        list_num_columns_to_delete.append(item)\n",
    "list_num_columns_to_delete"
   ]
  },
  {
   "cell_type": "code",
   "execution_count": 62,
   "metadata": {
    "execution": {
     "iopub.execute_input": "2022-05-18T16:43:04.058288Z",
     "iopub.status.busy": "2022-05-18T16:43:04.058043Z",
     "iopub.status.idle": "2022-05-18T16:43:04.064052Z",
     "shell.execute_reply": "2022-05-18T16:43:04.063335Z",
     "shell.execute_reply.started": "2022-05-18T16:43:04.05826Z"
    }
   },
   "outputs": [
    {
     "data": {
      "text/plain": [
       "['LowQualFinSF',\n",
       " '3SsnPorch',\n",
       " 'MiscVal',\n",
       " 'PoolArea',\n",
       " 'KitchenAbvGr',\n",
       " 'Street',\n",
       " 'Utilities',\n",
       " 'Condition2',\n",
       " 'RoofMatl',\n",
       " 'Heating',\n",
       " 'GarageQual',\n",
       " 'GarageCond',\n",
       " 'PoolQC',\n",
       " 'MiscFeature']"
      ]
     },
     "execution_count": 62,
     "metadata": {},
     "output_type": "execute_result"
    }
   ],
   "source": [
    "# list_to_delete after above preparation\n",
    "list_to_delete1 = list_num_columns_to_delete + list_cat_columns_to_delete + list_cat_int_columns_to_delete\n",
    "list_to_delete1"
   ]
  },
  {
   "cell_type": "code",
   "execution_count": 63,
   "metadata": {
    "execution": {
     "iopub.execute_input": "2022-05-18T16:43:04.065894Z",
     "iopub.status.busy": "2022-05-18T16:43:04.065046Z",
     "iopub.status.idle": "2022-05-18T16:43:04.079013Z",
     "shell.execute_reply": "2022-05-18T16:43:04.078046Z",
     "shell.execute_reply.started": "2022-05-18T16:43:04.065845Z"
    }
   },
   "outputs": [],
   "source": [
    "# transfomer to encoder mean\n",
    "from sklearn.base import BaseEstimator, TransformerMixin\n",
    "class MeanEncoder(BaseEstimator, TransformerMixin):\n",
    "    def __init__ (self,columns_list =[]):\n",
    "        self.columns_list = columns_list\n",
    "        #columns_list\n",
    "        #print(\"__init__: {columns_list}\".format(columns_list))\n",
    "        #print(\"__init__: {self.columns_list}\".format(self.columns_list))\n",
    "        #self.dicts ={}\n",
    "                       \n",
    "    def fit(self,X,y):\n",
    "        print(\"in ME fit\")\n",
    "        #self.columns_list = columns_list\n",
    "        #print(\"in ME fit: {columns_list}\".format(columns_list))\n",
    "        #print(\"in ME fit: {}\".format(self.columns_list))\n",
    "        \n",
    "        dicts = {}\n",
    "        y_name = y.name\n",
    "        X_y = pd.concat([X,y], axis =1)\n",
    "        for column in self.columns_list:\n",
    "            dict_cat = X_y.groupby(column)[y_name].mean().to_dict()\n",
    "            dicts[column] = dict_cat\n",
    "        self.dicts = dicts\n",
    "        #print(\"in ME fit: self.dicts:\\n{}\\n\".format(self.dicts))\n",
    "        return self\n",
    "    \n",
    "    #def transform(self,df,y):\n",
    "    def transform(self,X):\n",
    "        print(\"in ME transform\")\n",
    "        #print(\"self.columns_list\",self.columns_list)\n",
    "        #print(\"X.columns:\\n{}\\n\".format(X.columns))\n",
    "        #print(\"X:\\n{}\\n\".format(X))\n",
    "        #print(\"self.dicts:\\n{}\\n\".format(self.dicts))\n",
    "        for column in self.columns_list:\n",
    "            dict_cat = self.dicts[column]\n",
    "            #print(\"dict_cat\",dict_cat)\n",
    "            X[column] = X[column].map(dict_cat)\n",
    "        #print(\"X after transform :\\n{}\\n\".format(X))\n",
    "        return X"
   ]
  },
  {
   "cell_type": "code",
   "execution_count": 64,
   "metadata": {
    "execution": {
     "iopub.execute_input": "2022-05-18T16:43:04.080986Z",
     "iopub.status.busy": "2022-05-18T16:43:04.080661Z",
     "iopub.status.idle": "2022-05-18T16:43:04.101504Z",
     "shell.execute_reply": "2022-05-18T16:43:04.100627Z",
     "shell.execute_reply.started": "2022-05-18T16:43:04.080933Z"
    }
   },
   "outputs": [
    {
     "data": {
      "text/plain": [
       "(['LowQualFinSF',\n",
       "  '3SsnPorch',\n",
       "  'MiscVal',\n",
       "  'PoolArea',\n",
       "  'KitchenAbvGr',\n",
       "  'Street',\n",
       "  'Utilities',\n",
       "  'Condition2',\n",
       "  'RoofMatl',\n",
       "  'Heating',\n",
       "  'GarageQual',\n",
       "  'GarageCond',\n",
       "  'PoolQC',\n",
       "  'MiscFeature'],\n",
       " ['LowQualFinSF',\n",
       "  '3SsnPorch',\n",
       "  'MiscVal',\n",
       "  'PoolArea',\n",
       "  'KitchenAbvGr',\n",
       "  'Street',\n",
       "  'Utilities',\n",
       "  'Condition2',\n",
       "  'RoofMatl',\n",
       "  'Heating',\n",
       "  'GarageQual',\n",
       "  'GarageCond',\n",
       "  'PoolQC',\n",
       "  'MiscFeature'])"
      ]
     },
     "execution_count": 64,
     "metadata": {},
     "output_type": "execute_result"
    }
   ],
   "source": [
    "# drop unusfull var cat + num\n",
    "\n",
    "list_to_delete = list_num_columns_to_delete + list_cat_columns_to_delete + list_cat_int_columns_to_delete\n",
    "dataset.drop(list_to_delete, axis =1 , inplace =True)\n",
    "list_to_delete,list_to_delete1"
   ]
  },
  {
   "cell_type": "code",
   "execution_count": 65,
   "metadata": {
    "execution": {
     "iopub.execute_input": "2022-05-18T16:43:04.103607Z",
     "iopub.status.busy": "2022-05-18T16:43:04.103125Z",
     "iopub.status.idle": "2022-05-18T16:43:04.116131Z",
     "shell.execute_reply": "2022-05-18T16:43:04.115384Z",
     "shell.execute_reply.started": "2022-05-18T16:43:04.103552Z"
    }
   },
   "outputs": [],
   "source": [
    "# correct columns_lists\n",
    "for key in columns_dif_types_x.keys():\n",
    "    #if( key == 'columns_obj'): print(f'{key}\\n{columns_dif_types_x[key]}\\n')\n",
    "    columns_dif_types_x[key] = [el for el in columns_dif_types_x[key] if el not in list_to_delete]\n",
    "    #if( key == 'columns_obj'): print(f'{key}\\n{columns_dif_types_x[key]}\\n')"
   ]
  },
  {
   "cell_type": "code",
   "execution_count": 66,
   "metadata": {
    "execution": {
     "iopub.execute_input": "2022-05-18T16:43:04.117849Z",
     "iopub.status.busy": "2022-05-18T16:43:04.117447Z",
     "iopub.status.idle": "2022-05-18T16:43:04.136795Z",
     "shell.execute_reply": "2022-05-18T16:43:04.135975Z",
     "shell.execute_reply.started": "2022-05-18T16:43:04.117814Z"
    }
   },
   "outputs": [
    {
     "data": {
      "text/plain": [
       "['LotArea',\n",
       " 'BsmtFinSF1',\n",
       " 'BsmtFinSF2',\n",
       " 'BsmtUnfSF',\n",
       " 'TotalBsmtSF',\n",
       " '1stFlrSF',\n",
       " '2ndFlrSF',\n",
       " 'LowQualFinSF',\n",
       " 'GrLivArea',\n",
       " 'GarageArea',\n",
       " 'WoodDeckSF',\n",
       " 'OpenPorchSF',\n",
       " 'EnclosedPorch',\n",
       " '3SsnPorch',\n",
       " 'ScreenPorch',\n",
       " 'MiscVal',\n",
       " 'PoolArea',\n",
       " 'GarageCars',\n",
       " 'Fireplaces',\n",
       " 'TotRmsAbvGrd',\n",
       " 'BedroomAbvGr',\n",
       " 'KitchenAbvGr']"
      ]
     },
     "execution_count": 66,
     "metadata": {},
     "output_type": "execute_result"
    }
   ],
   "source": [
    "columns_dif_types_x.keys()\n",
    "columns_int_numerical"
   ]
  },
  {
   "cell_type": "code",
   "execution_count": 67,
   "metadata": {
    "execution": {
     "iopub.execute_input": "2022-05-18T16:43:04.138496Z",
     "iopub.status.busy": "2022-05-18T16:43:04.137933Z",
     "iopub.status.idle": "2022-05-18T16:43:04.185446Z",
     "shell.execute_reply": "2022-05-18T16:43:04.184596Z",
     "shell.execute_reply.started": "2022-05-18T16:43:04.138462Z"
    }
   },
   "outputs": [
    {
     "name": "stdout",
     "output_type": "stream",
     "text": [
      "SalePrice corr:\n",
      "OverallQual    0.808658\n",
      "GrLivArea      0.732094\n",
      "SalePrice      1.000000\n",
      "Name: SalePrice, dtype: float64\n",
      "\n",
      "           var1          var2      corr\n",
      "0     YearBuilt   GarageYrBlt  0.847337\n",
      "1   TotalBsmtSF      1stFlrSF  0.829169\n",
      "2      1stFlrSF   TotalBsmtSF  0.829169\n",
      "3     GrLivArea  TotRmsAbvGrd  0.827989\n",
      "4  TotRmsAbvGrd     GrLivArea  0.827989\n",
      "5   GarageYrBlt     YearBuilt  0.847337\n",
      "6    GarageCars    GarageArea  0.853655\n",
      "7    GarageArea    GarageCars  0.853655\n",
      "           var1          var2      corr\n",
      "6    GarageCars    GarageArea  0.853655\n",
      "7    GarageArea    GarageCars  0.853655\n",
      "0     YearBuilt   GarageYrBlt  0.847337\n",
      "5   GarageYrBlt     YearBuilt  0.847337\n",
      "1   TotalBsmtSF      1stFlrSF  0.829169\n",
      "2      1stFlrSF   TotalBsmtSF  0.829169\n",
      "3     GrLivArea  TotRmsAbvGrd  0.827989\n",
      "4  TotRmsAbvGrd     GrLivArea  0.827989\n"
     ]
    }
   ],
   "source": [
    "# let us see correlation\n",
    "train = dataset.loc[id_train]\n",
    "train_plus_y = train.copy()\n",
    "train_plus_y['SalePrice'] = y\n",
    "#print(train_plus_y.columns)\n",
    "corr = train_plus_y.corr(method = 'spearman')\n",
    "print(f\"SalePrice corr:\\n{corr.loc[abs(corr['SalePrice'])>0.7,'SalePrice']}\\n\")\n",
    "#print(corr.index)\n",
    "list_temp=[]\n",
    "for i in corr.index:\n",
    "    for j in corr.columns:\n",
    "        if (i!='SalePrice') and (j!='SalePrice'):\n",
    "            if i !=j:\n",
    "                if corr.loc[i,j]>0.7: list_temp.append([i,j,corr.loc[i,j]])\n",
    "#list_temp\n",
    "corr_pd = pd.DataFrame(list_temp, columns = ['var1','var2','corr'])\n",
    "print(corr_pd)\n",
    "print(corr_pd.sort_values(by = ['corr'],ascending = False, inplace = False))\n",
    "\n",
    "# after looking at corr keep all columns"
   ]
  },
  {
   "cell_type": "code",
   "execution_count": 68,
   "metadata": {
    "execution": {
     "iopub.execute_input": "2022-05-18T16:43:04.18684Z",
     "iopub.status.busy": "2022-05-18T16:43:04.186604Z",
     "iopub.status.idle": "2022-05-18T16:43:04.194628Z",
     "shell.execute_reply": "2022-05-18T16:43:04.193839Z",
     "shell.execute_reply.started": "2022-05-18T16:43:04.186811Z"
    }
   },
   "outputs": [],
   "source": [
    "# return to three sets\n",
    "train         = dataset.loc[id_train]\n",
    "test          = dataset.loc[id_test ]"
   ]
  },
  {
   "cell_type": "code",
   "execution_count": 69,
   "metadata": {
    "execution": {
     "iopub.execute_input": "2022-05-18T16:43:04.196603Z",
     "iopub.status.busy": "2022-05-18T16:43:04.195929Z",
     "iopub.status.idle": "2022-05-18T16:43:04.206344Z",
     "shell.execute_reply": "2022-05-18T16:43:04.205667Z",
     "shell.execute_reply.started": "2022-05-18T16:43:04.196564Z"
    }
   },
   "outputs": [],
   "source": [
    "# form lists for encoding\n",
    "columns_zero =[]\n",
    "ohe_list  = [el for el in (columns_obj+columns_num_cat)                               if el not in (list_to_delete)]\n",
    "sc_list   = [el for el in (columns_float+columns_num_range+columns_int_years+columns_int_numerical) if el not in list_to_delete]\n",
    "norm_list = [el for el in (columns_zero)                                             if el not in list_to_delete]\n"
   ]
  },
  {
   "cell_type": "code",
   "execution_count": 70,
   "metadata": {
    "execution": {
     "iopub.execute_input": "2022-05-18T16:43:04.208192Z",
     "iopub.status.busy": "2022-05-18T16:43:04.207441Z",
     "iopub.status.idle": "2022-05-18T16:43:04.2214Z",
     "shell.execute_reply": "2022-05-18T16:43:04.220651Z",
     "shell.execute_reply.started": "2022-05-18T16:43:04.208159Z"
    }
   },
   "outputs": [
    {
     "data": {
      "text/plain": [
       "['Id', 'SalePrice']"
      ]
     },
     "execution_count": 70,
     "metadata": {},
     "output_type": "execute_result"
    }
   ],
   "source": [
    "check = [el for el in train_copy.columns if el not in (ohe_list+sc_list+norm_list+list_to_delete)]\n",
    "check"
   ]
  },
  {
   "cell_type": "code",
   "execution_count": 71,
   "metadata": {
    "execution": {
     "iopub.execute_input": "2022-05-18T16:43:04.222813Z",
     "iopub.status.busy": "2022-05-18T16:43:04.222573Z",
     "iopub.status.idle": "2022-05-18T16:43:04.233417Z",
     "shell.execute_reply": "2022-05-18T16:43:04.232537Z",
     "shell.execute_reply.started": "2022-05-18T16:43:04.222785Z"
    }
   },
   "outputs": [],
   "source": [
    "#encoders\n",
    "\n",
    "ohe  = OneHotEncoder(drop = 'if_binary', sparse = False)\n",
    "norm = Normalizer()\n",
    "sc   = StandardScaler()\n",
    "#norm = StandardScaler()"
   ]
  },
  {
   "cell_type": "code",
   "execution_count": 72,
   "metadata": {
    "execution": {
     "iopub.execute_input": "2022-05-18T16:43:04.236145Z",
     "iopub.status.busy": "2022-05-18T16:43:04.235149Z",
     "iopub.status.idle": "2022-05-18T16:43:04.24669Z",
     "shell.execute_reply": "2022-05-18T16:43:04.245773Z",
     "shell.execute_reply.started": "2022-05-18T16:43:04.236078Z"
    }
   },
   "outputs": [],
   "source": [
    "#train.columns,ohe_list"
   ]
  },
  {
   "cell_type": "code",
   "execution_count": 73,
   "metadata": {
    "execution": {
     "iopub.execute_input": "2022-05-18T16:43:04.248079Z",
     "iopub.status.busy": "2022-05-18T16:43:04.247859Z",
     "iopub.status.idle": "2022-05-18T16:43:04.260315Z",
     "shell.execute_reply": "2022-05-18T16:43:04.259137Z",
     "shell.execute_reply.started": "2022-05-18T16:43:04.248052Z"
    }
   },
   "outputs": [],
   "source": [
    "sw_cl_do =0\n",
    "if sw_cl_do ==1:\n",
    "# try new var \"clusters\"\n",
    "    from sklearn.cluster import KMeans\n",
    "    kmeans = KMeans(n_clusters=7)\n",
    "    transformers_cl  = ColumnTransformer(\n",
    "                            [('ohe' ,ohe ,ohe_list ),\n",
    "                             ('sc'  ,sc  ,sc_list  ),\n",
    "                             ('norm',norm,norm_list)],\n",
    "                            remainder = 'passthrough')\n",
    "\n",
    "    train_cl = ohe.fit_transform(train[ohe_list])\n",
    "    test_cl  = ohe.transform(test[ohe_list])\n",
    "    train['cluster'] = kmeans.fit_predict(train_cl)\n",
    "    test ['cluster'] = kmeans.predict(test_cl)\n",
    "    ohe_list.append('cluster')\n",
    "\n"
   ]
  },
  {
   "cell_type": "markdown",
   "metadata": {},
   "source": [
    "Try clustering"
   ]
  },
  {
   "cell_type": "code",
   "execution_count": 74,
   "metadata": {
    "execution": {
     "iopub.execute_input": "2022-05-18T16:43:04.262594Z",
     "iopub.status.busy": "2022-05-18T16:43:04.262034Z",
     "iopub.status.idle": "2022-05-18T16:43:04.279929Z",
     "shell.execute_reply": "2022-05-18T16:43:04.279047Z",
     "shell.execute_reply.started": "2022-05-18T16:43:04.262529Z"
    }
   },
   "outputs": [],
   "source": [
    "if sw_cl_do ==1: \n",
    "    train['cluster'].value_counts(), test['cluster'].value_counts() "
   ]
  },
  {
   "cell_type": "code",
   "execution_count": 75,
   "metadata": {
    "execution": {
     "iopub.execute_input": "2022-05-18T16:43:04.281485Z",
     "iopub.status.busy": "2022-05-18T16:43:04.281261Z",
     "iopub.status.idle": "2022-05-18T16:43:04.294169Z",
     "shell.execute_reply": "2022-05-18T16:43:04.293258Z",
     "shell.execute_reply.started": "2022-05-18T16:43:04.281457Z"
    }
   },
   "outputs": [],
   "source": [
    "if sw_cl_do ==1: \n",
    "    stop"
   ]
  },
  {
   "cell_type": "code",
   "execution_count": 76,
   "metadata": {
    "execution": {
     "iopub.execute_input": "2022-05-18T16:43:04.296047Z",
     "iopub.status.busy": "2022-05-18T16:43:04.295828Z",
     "iopub.status.idle": "2022-05-18T16:43:04.307001Z",
     "shell.execute_reply": "2022-05-18T16:43:04.306183Z",
     "shell.execute_reply.started": "2022-05-18T16:43:04.296019Z"
    }
   },
   "outputs": [],
   "source": [
    "sw_cl =0\n",
    "if sw_cl ==1:\n",
    "    train.loc[train['cluster'] ==4,'cluster'] = 9\n",
    "    train.loc[train['cluster'] ==1,'cluster'] = 9\n",
    "    train.loc[train['cluster'] ==6,'cluster'] = 9\n",
    "    train.loc[train['cluster'] ==2,'cluster'] = 9\n",
    "    test.loc[test['cluster'] ==4,'cluster'] = 9\n",
    "    test.loc[test['cluster'] ==2,'cluster'] = 9\n",
    "    train['cluster'].value_counts(), test['cluster'].value_counts() "
   ]
  },
  {
   "cell_type": "markdown",
   "metadata": {},
   "source": [
    "Try PCA"
   ]
  },
  {
   "cell_type": "code",
   "execution_count": 77,
   "metadata": {
    "execution": {
     "iopub.execute_input": "2022-05-18T16:43:04.308899Z",
     "iopub.status.busy": "2022-05-18T16:43:04.308556Z",
     "iopub.status.idle": "2022-05-18T16:43:04.320887Z",
     "shell.execute_reply": "2022-05-18T16:43:04.320187Z",
     "shell.execute_reply.started": "2022-05-18T16:43:04.308855Z"
    }
   },
   "outputs": [],
   "source": [
    "from sklearn.decomposition import PCA\n",
    "pca = PCA()"
   ]
  },
  {
   "cell_type": "code",
   "execution_count": 78,
   "metadata": {
    "execution": {
     "iopub.execute_input": "2022-05-18T16:43:04.322199Z",
     "iopub.status.busy": "2022-05-18T16:43:04.321941Z",
     "iopub.status.idle": "2022-05-18T16:43:04.333891Z",
     "shell.execute_reply": "2022-05-18T16:43:04.333195Z",
     "shell.execute_reply.started": "2022-05-18T16:43:04.322168Z"
    }
   },
   "outputs": [],
   "source": [
    "sw_pca =0\n",
    "if sw_pca ==1:\n",
    "#norm = StandardScaler()\n",
    "    transformers_for_pca  = ColumnTransformer(\n",
    "                            [('sc'  ,sc  ,sc_list  ),\n",
    "                             ('norm',norm,norm_list)],\n",
    "                            remainder = 'passthrough')\n",
    "\n",
    "    train_for_pca = train[sc_list+norm_list]\n",
    "    test_for_pca  = test [sc_list+norm_list]\n",
    "    train_tr_pca = transformers_for_pca.fit_transform(train_for_pca )\n",
    "    test_tr_pca  = transformers_for_pca.transform(test_for_pca )\n",
    "    #print(test_for_pca.shape,test_tr_pca.shape)\n",
    "    train_pca     = pca.fit_transform(train_tr_pca)\n",
    "    test_pca      = pca.transform(test_tr_pca)\n",
    "    train_pca_df  =pd.DataFrame(train_pca, \n",
    "                                columns = [f\"PCA{i+1}\" for i in range(train_pca.shape[1])],\n",
    "                                index =train.index)\n",
    "    test_pca_df   =pd.DataFrame(test_pca ,\n",
    "                                columns = [f\"PCA{i+1}\" for i in range(train_pca.shape[1])],\n",
    "                                index =test.index)\n",
    "    train_cat     = train[ohe_list]\n",
    "    test_cat      = test [ohe_list] \n",
    "    train         = pd.concat([train_cat,train_pca_df], axis =1)\n",
    "    test          = pd.concat([test_cat ,test_pca_df ], axis =1)\n",
    "    transformers  = ColumnTransformer(\n",
    "                            [('ohe' ,ohe ,ohe_list ),],\n",
    "                            remainder = 'passthrough')"
   ]
  },
  {
   "cell_type": "code",
   "execution_count": 79,
   "metadata": {
    "execution": {
     "iopub.execute_input": "2022-05-18T16:43:04.335185Z",
     "iopub.status.busy": "2022-05-18T16:43:04.334901Z",
     "iopub.status.idle": "2022-05-18T16:43:04.353194Z",
     "shell.execute_reply": "2022-05-18T16:43:04.352201Z",
     "shell.execute_reply.started": "2022-05-18T16:43:04.335153Z"
    }
   },
   "outputs": [],
   "source": [
    "if sw_pca ==0:\n",
    "    # Prepare encodering\n",
    "    ohe  = OneHotEncoder(drop = 'if_binary', sparse = False)\n",
    "    norm = Normalizer()\n",
    "    sc   = StandardScaler()\n",
    "\n",
    "    transformers  = ColumnTransformer(\n",
    "                            [('ohe' ,ohe ,ohe_list ),\n",
    "                             ('sc'  ,sc  ,sc_list  ),\n",
    "                             ('norm',norm,norm_list)],\n",
    "                            remainder = 'passthrough')\n"
   ]
  },
  {
   "cell_type": "code",
   "execution_count": 80,
   "metadata": {
    "execution": {
     "iopub.execute_input": "2022-05-18T16:43:04.355224Z",
     "iopub.status.busy": "2022-05-18T16:43:04.35456Z",
     "iopub.status.idle": "2022-05-18T16:43:04.366561Z",
     "shell.execute_reply": "2022-05-18T16:43:04.365938Z",
     "shell.execute_reply.started": "2022-05-18T16:43:04.355181Z"
    }
   },
   "outputs": [],
   "source": [
    "gbr = GradientBoostingRegressor(max_depth = 4,n_estimators = 100,criterion = 'squared_error',random_state = 0)\n",
    "svr = SVR()\n",
    "knn = KNeighborsRegressor()\n",
    "mlp = MLPRegressor()\n",
    "# in previous culculations gbr shows best results amoung svr, knn, gbr\n",
    "# so in this pipeline only gbr is tuned"
   ]
  },
  {
   "cell_type": "code",
   "execution_count": 81,
   "metadata": {
    "execution": {
     "iopub.execute_input": "2022-05-18T16:43:04.367957Z",
     "iopub.status.busy": "2022-05-18T16:43:04.367573Z",
     "iopub.status.idle": "2022-05-18T16:43:04.379832Z",
     "shell.execute_reply": "2022-05-18T16:43:04.379182Z",
     "shell.execute_reply.started": "2022-05-18T16:43:04.36792Z"
    }
   },
   "outputs": [],
   "source": [
    "pipe = Pipeline(steps = [('transformers',transformers),('clf', gbr)])"
   ]
  },
  {
   "cell_type": "code",
   "execution_count": 82,
   "metadata": {
    "execution": {
     "iopub.execute_input": "2022-05-18T16:43:04.381625Z",
     "iopub.status.busy": "2022-05-18T16:43:04.38094Z",
     "iopub.status.idle": "2022-05-18T16:43:04.394839Z",
     "shell.execute_reply": "2022-05-18T16:43:04.393818Z",
     "shell.execute_reply.started": "2022-05-18T16:43:04.381564Z"
    }
   },
   "outputs": [],
   "source": [
    "params = [{'clf':[gbr],'clf__max_depth':[3,4,5],\n",
    "           'clf__learning_rate':[0.05,0.025],\n",
    "           'clf__n_estimators' :[300,350,400],\n",
    "           }\n",
    "         #,\n",
    "         #{'clf':[svr],'clf__C':[0.1,0.05,0.2]},\n",
    "         #{'clf':[knn],'clf__n_neighbors':[3,4,5]},\n",
    "         #{'clf':[mlp]}\n",
    "         ]"
   ]
  },
  {
   "cell_type": "code",
   "execution_count": 83,
   "metadata": {
    "execution": {
     "iopub.execute_input": "2022-05-18T16:43:04.396802Z",
     "iopub.status.busy": "2022-05-18T16:43:04.39639Z",
     "iopub.status.idle": "2022-05-18T16:43:04.413426Z",
     "shell.execute_reply": "2022-05-18T16:43:04.412481Z",
     "shell.execute_reply.started": "2022-05-18T16:43:04.39677Z"
    }
   },
   "outputs": [],
   "source": [
    "y_train_log      = np.log(y)    "
   ]
  },
  {
   "cell_type": "code",
   "execution_count": 84,
   "metadata": {
    "execution": {
     "iopub.execute_input": "2022-05-18T16:43:04.427094Z",
     "iopub.status.busy": "2022-05-18T16:43:04.426505Z",
     "iopub.status.idle": "2022-05-18T16:47:00.376361Z",
     "shell.execute_reply": "2022-05-18T16:47:00.375525Z",
     "shell.execute_reply.started": "2022-05-18T16:43:04.42706Z"
    }
   },
   "outputs": [
    {
     "data": {
      "text/plain": [
       "GridSearchCV(cv=4,\n",
       "             estimator=Pipeline(steps=[('transformers',\n",
       "                                        ColumnTransformer(remainder='passthrough',\n",
       "                                                          transformers=[('ohe',\n",
       "                                                                         OneHotEncoder(drop='if_binary',\n",
       "                                                                                       sparse=False),\n",
       "                                                                         ['MSZoning',\n",
       "                                                                          'Alley',\n",
       "                                                                          'LotShape',\n",
       "                                                                          'LandContour',\n",
       "                                                                          'LotConfig',\n",
       "                                                                          'LandSlope',\n",
       "                                                                          'Neighborhood',\n",
       "                                                                          'Condition1',\n",
       "                                                                          'BldgType',\n",
       "                                                                          'HouseStyle',\n",
       "                                                                          'RoofStyle',\n",
       "                                                                          'Exterior1st',\n",
       "                                                                          'Exterior2nd',\n",
       "                                                                          'MasVnrType',\n",
       "                                                                          'ExterQu...\n",
       "                                        GradientBoostingRegressor(criterion='squared_error',\n",
       "                                                                  learning_rate=0.05,\n",
       "                                                                  n_estimators=400,\n",
       "                                                                  random_state=0))]),\n",
       "             param_grid=[{'clf': [GradientBoostingRegressor(criterion='squared_error',\n",
       "                                                            learning_rate=0.05,\n",
       "                                                            n_estimators=400,\n",
       "                                                            random_state=0)],\n",
       "                          'clf__learning_rate': [0.05, 0.025],\n",
       "                          'clf__max_depth': [3, 4, 5],\n",
       "                          'clf__n_estimators': [300, 350, 400]}],\n",
       "             return_train_score=True)"
      ]
     },
     "execution_count": 84,
     "metadata": {},
     "output_type": "execute_result"
    }
   ],
   "source": [
    "search = GridSearchCV(pipe,params,return_train_score = True, cv = 4)\n",
    "search.fit(train,y_train_log)"
   ]
  },
  {
   "cell_type": "code",
   "execution_count": 85,
   "metadata": {
    "execution": {
     "iopub.execute_input": "2022-05-18T16:47:00.377785Z",
     "iopub.status.busy": "2022-05-18T16:47:00.37754Z",
     "iopub.status.idle": "2022-05-18T16:47:00.434275Z",
     "shell.execute_reply": "2022-05-18T16:47:00.433431Z",
     "shell.execute_reply.started": "2022-05-18T16:47:00.377756Z"
    }
   },
   "outputs": [
    {
     "data": {
      "text/plain": [
       "(180979.11248285323, 177589.1771364407)"
      ]
     },
     "execution_count": 85,
     "metadata": {},
     "output_type": "execute_result"
    }
   ],
   "source": [
    "y_pred_test_log = search.predict(test)\n",
    "y_pred_test_exp  = np.exp(y_pred_test_log)\n",
    "y.mean(),y_pred_test_exp.mean()"
   ]
  },
  {
   "cell_type": "code",
   "execution_count": 86,
   "metadata": {
    "execution": {
     "iopub.execute_input": "2022-05-18T16:47:00.435968Z",
     "iopub.status.busy": "2022-05-18T16:47:00.435721Z",
     "iopub.status.idle": "2022-05-18T16:47:00.444577Z",
     "shell.execute_reply": "2022-05-18T16:47:00.443882Z",
     "shell.execute_reply.started": "2022-05-18T16:47:00.435939Z"
    }
   },
   "outputs": [
    {
     "name": "stdout",
     "output_type": "stream",
     "text": [
      "GradientBoostingRegressor(criterion='squared_error', learning_rate=0.05,\n",
      "                          n_estimators=400, random_state=0)\n"
     ]
    },
    {
     "data": {
      "text/plain": [
       "{'alpha': 0.9,\n",
       " 'ccp_alpha': 0.0,\n",
       " 'criterion': 'squared_error',\n",
       " 'init': None,\n",
       " 'learning_rate': 0.05,\n",
       " 'loss': 'squared_error',\n",
       " 'max_depth': 3,\n",
       " 'max_features': None,\n",
       " 'max_leaf_nodes': None,\n",
       " 'min_impurity_decrease': 0.0,\n",
       " 'min_samples_leaf': 1,\n",
       " 'min_samples_split': 2,\n",
       " 'min_weight_fraction_leaf': 0.0,\n",
       " 'n_estimators': 400,\n",
       " 'n_iter_no_change': None,\n",
       " 'random_state': 0,\n",
       " 'subsample': 1.0,\n",
       " 'tol': 0.0001,\n",
       " 'validation_fraction': 0.1,\n",
       " 'verbose': 0,\n",
       " 'warm_start': False}"
      ]
     },
     "execution_count": 86,
     "metadata": {},
     "output_type": "execute_result"
    }
   ],
   "source": [
    "print(search.best_estimator_[1])\n",
    "search.best_estimator_[1].get_params(deep =True)"
   ]
  },
  {
   "cell_type": "code",
   "execution_count": 87,
   "metadata": {
    "execution": {
     "iopub.execute_input": "2022-05-18T16:47:00.446291Z",
     "iopub.status.busy": "2022-05-18T16:47:00.445613Z",
     "iopub.status.idle": "2022-05-18T16:47:00.458287Z",
     "shell.execute_reply": "2022-05-18T16:47:00.457536Z",
     "shell.execute_reply.started": "2022-05-18T16:47:00.44624Z"
    }
   },
   "outputs": [
    {
     "data": {
      "text/plain": [
       "0.9019666681377867"
      ]
     },
     "execution_count": 87,
     "metadata": {},
     "output_type": "execute_result"
    }
   ],
   "source": [
    "search.best_score_"
   ]
  },
  {
   "cell_type": "code",
   "execution_count": 88,
   "metadata": {
    "execution": {
     "iopub.execute_input": "2022-05-18T16:47:00.46004Z",
     "iopub.status.busy": "2022-05-18T16:47:00.459592Z",
     "iopub.status.idle": "2022-05-18T16:47:00.476276Z",
     "shell.execute_reply": "2022-05-18T16:47:00.475182Z",
     "shell.execute_reply.started": "2022-05-18T16:47:00.459991Z"
    }
   },
   "outputs": [
    {
     "data": {
      "text/plain": [
       "{'alpha': 0.9,\n",
       " 'ccp_alpha': 0.0,\n",
       " 'criterion': 'squared_error',\n",
       " 'init': None,\n",
       " 'learning_rate': 0.05,\n",
       " 'loss': 'squared_error',\n",
       " 'max_depth': 3,\n",
       " 'max_features': None,\n",
       " 'max_leaf_nodes': None,\n",
       " 'min_impurity_decrease': 0.0,\n",
       " 'min_samples_leaf': 1,\n",
       " 'min_samples_split': 2,\n",
       " 'min_weight_fraction_leaf': 0.0,\n",
       " 'n_estimators': 400,\n",
       " 'n_iter_no_change': None,\n",
       " 'random_state': 0,\n",
       " 'subsample': 1.0,\n",
       " 'tol': 0.0001,\n",
       " 'validation_fraction': 0.1,\n",
       " 'verbose': 0,\n",
       " 'warm_start': False}"
      ]
     },
     "execution_count": 88,
     "metadata": {},
     "output_type": "execute_result"
    }
   ],
   "source": [
    "best_model = search.best_estimator_[1]\n",
    "best_model.get_params()"
   ]
  },
  {
   "cell_type": "code",
   "execution_count": 89,
   "metadata": {
    "execution": {
     "iopub.execute_input": "2022-05-18T16:47:00.477606Z",
     "iopub.status.busy": "2022-05-18T16:47:00.477389Z",
     "iopub.status.idle": "2022-05-18T16:47:00.491657Z",
     "shell.execute_reply": "2022-05-18T16:47:00.490834Z",
     "shell.execute_reply.started": "2022-05-18T16:47:00.47758Z"
    }
   },
   "outputs": [
    {
     "data": {
      "text/plain": [
       "(pandas.core.frame.DataFrame,\n",
       " (1458, 66),\n",
       " MSSubClass               int64\n",
       " MSZoning                object\n",
       " LotFrontage            float64\n",
       " LotArea                  int64\n",
       " Alley                   object\n",
       "                         ...   \n",
       " MoSold                   int64\n",
       " YrSold                   int64\n",
       " SaleType                object\n",
       " SaleCondition           object\n",
       " LotFrontage_replace      int32\n",
       " Length: 66, dtype: object)"
      ]
     },
     "execution_count": 89,
     "metadata": {},
     "output_type": "execute_result"
    }
   ],
   "source": [
    "type(train), train.shape,train.dtypes"
   ]
  },
  {
   "cell_type": "code",
   "execution_count": 90,
   "metadata": {
    "execution": {
     "iopub.execute_input": "2022-05-18T16:47:00.493787Z",
     "iopub.status.busy": "2022-05-18T16:47:00.493194Z",
     "iopub.status.idle": "2022-05-18T16:47:11.457778Z",
     "shell.execute_reply": "2022-05-18T16:47:11.456824Z",
     "shell.execute_reply.started": "2022-05-18T16:47:00.493741Z"
    }
   },
   "outputs": [
    {
     "name": "stdout",
     "output_type": "stream",
     "text": [
      "[0.01176126 0.02168301 0.0148185  0.01467321] 0.12543521680306147\n"
     ]
    }
   ],
   "source": [
    "scorer = make_scorer(mean_squared_error)\n",
    "score_cross = cross_val_score(best_model,\n",
    "                              transformers.fit_transform(train,y_train_log),\n",
    "                              y_train_log, cv =4, scoring = scorer )\n",
    "score = np.sqrt(score_cross.mean())\n",
    "print(score_cross,score)"
   ]
  },
  {
   "cell_type": "code",
   "execution_count": 91,
   "metadata": {
    "execution": {
     "iopub.execute_input": "2022-05-18T16:47:11.460212Z",
     "iopub.status.busy": "2022-05-18T16:47:11.459321Z",
     "iopub.status.idle": "2022-05-18T16:47:11.475001Z",
     "shell.execute_reply": "2022-05-18T16:47:11.473538Z",
     "shell.execute_reply.started": "2022-05-18T16:47:11.46015Z"
    }
   },
   "outputs": [],
   "source": [
    "sw_log_to_csv =    1\n",
    "if sw_log_to_csv ==1:\n",
    "    \n",
    "    y_pred_with_Id       = pd.DataFrame({'Id':id_test,'SalePrice':y_pred_test_exp})\n",
    "    y_pred_with_Id.index = y_pred_with_Id['Id']\n",
    "    y_pred_with_Id.to_csv(\"submission.csv\", index = False)    "
   ]
  }
 ],
 "metadata": {
  "kernelspec": {
   "display_name": "Python 3",
   "language": "python",
   "name": "python3"
  },
  "language_info": {
   "codemirror_mode": {
    "name": "ipython",
    "version": 3
   },
   "file_extension": ".py",
   "mimetype": "text/x-python",
   "name": "python",
   "nbconvert_exporter": "python",
   "pygments_lexer": "ipython3",
   "version": "3.8.5"
  }
 },
 "nbformat": 4,
 "nbformat_minor": 4
}
